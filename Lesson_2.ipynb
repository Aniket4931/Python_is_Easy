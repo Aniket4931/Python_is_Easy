{
 "cells": [
  {
   "cell_type": "markdown",
   "id": "b2f61367-8838-4e84-b6ec-da47624d681c",
   "metadata": {},
   "source": [
    "\n",
    "\"String woh cheez hai jo Python ko itna flexible banati hai! Jaise, agar aapka dost bolta hai, 'Mujhe khana nahi mil raha,' toh aap keh sakte hain, 'Koi baat nahi, string se baat kar, woh zaroor milega!' Aur jab string ke methods aate hain, toh lagta hai jaise woh gym jaa rahe hain—.upper() se muscles banate hain aur .lower() se relax karte hain!\" 😄"
   ]
  },
  {
   "cell_type": "markdown",
   "id": "f0cd3d7a-779d-4b06-ae93-6b166210d028",
   "metadata": {},
   "source": [
    "# 11.What is a string in Python?\n",
    "Answer: A string in Python is a sequence of characters enclosed within quotation marks. It can be defined using either single (') or double (\") quotes. Strings can be manipulated using various operations like concatenation, slicing, and methods."
   ]
  },
  {
   "cell_type": "code",
   "execution_count": 1,
   "id": "e5e9ae34-e5f3-4b9a-92cd-be0483c135a0",
   "metadata": {},
   "outputs": [],
   "source": [
    "# Single quotes\n",
    "my_string = 'Hello, world!'\n",
    "\n",
    "# Double quotes\n",
    "another_string = \"This is a string\"\n",
    "\n",
    "# Multi-line strings (using triple quotes)\n",
    "long_string = \"\"\"\n",
    "This is a multi-line string.\n",
    "It can span multiple lines.\n",
    "\"\"\""
   ]
  },
  {
   "cell_type": "code",
   "execution_count": 3,
   "id": "d8c5bb4e-33dc-4bb7-a6ad-cc06ad219eb0",
   "metadata": {},
   "outputs": [
    {
     "name": "stdout",
     "output_type": "stream",
     "text": [
      "H\n",
      "l\n"
     ]
    }
   ],
   "source": [
    "# Accessing characters:\n",
    "my_string = \"Hello\"\n",
    "print(my_string[0])  # Output: H\n",
    "print(my_string[2])  # Output: l"
   ]
  },
  {
   "cell_type": "markdown",
   "id": "c16c2c51-e3e5-4362-9e23-db9125e755f8",
   "metadata": {},
   "source": [
    "### String operations:\n",
    "1.Concatenation: Joining strings using the + operator:"
   ]
  },
  {
   "cell_type": "code",
   "execution_count": 5,
   "id": "1147dafa-b2e7-4874-8439-41a7f3caaf84",
   "metadata": {},
   "outputs": [
    {
     "name": "stdout",
     "output_type": "stream",
     "text": [
      "Alice Bob\n"
     ]
    }
   ],
   "source": [
    "first_name = \"Alice\"\n",
    "last_name = \"Bob\"\n",
    "full_name = first_name + \" \" + last_name\n",
    "print(full_name)  "
   ]
  },
  {
   "cell_type": "markdown",
   "id": "67ddf786-25bf-4b74-a4ee-a3c596c74787",
   "metadata": {},
   "source": [
    "2.Length: Finding the length of a string using the len() function:"
   ]
  },
  {
   "cell_type": "code",
   "execution_count": 7,
   "id": "b7fc4936-4996-49b9-9eea-0c5e4441b4dc",
   "metadata": {},
   "outputs": [
    {
     "name": "stdout",
     "output_type": "stream",
     "text": [
      "6\n"
     ]
    }
   ],
   "source": [
    "my_string = \"Python\"\n",
    "length = len(my_string)\n",
    "print(length) "
   ]
  },
  {
   "cell_type": "markdown",
   "id": "4e68f7e8-2aa0-4ef4-b944-c07a19444712",
   "metadata": {},
   "source": [
    "3.Slicing: Extracting substrings using slicing:\n"
   ]
  },
  {
   "cell_type": "code",
   "execution_count": 14,
   "id": "b1bb7a8b-e0cc-46f9-a7eb-eb8609fda7a0",
   "metadata": {},
   "outputs": [
    {
     "name": "stdout",
     "output_type": "stream",
     "text": [
      "world\n"
     ]
    }
   ],
   "source": [
    "my_string = \"Hello, world!\"\n",
    "# [start:stop:step]\n",
    "substring = my_string[7:12]\n",
    "print(substring)  # Output: world"
   ]
  },
  {
   "cell_type": "markdown",
   "id": "2d811319-a43f-455e-ae34-ed01afcb7149",
   "metadata": {},
   "source": [
    "#### 1. Conversion Methods:\n",
    "\n",
    "1.upper(): Converts all characters to uppercase.<br>\n",
    "2.lower(): Converts all characters to lowercase.<br>\n",
    "3.capitalize(): Capitalizes the first character of the string.<br>\n",
    "4.title(): Capitalizes the first character of each word in the string.   <br>\n",
    "5.swapcase(): Swaps the case of all characters (uppercase to lowercase and vice versa)."
   ]
  },
  {
   "cell_type": "code",
   "execution_count": 16,
   "id": "84cdf1c7-dedd-4cda-9f21-459ec90fec2d",
   "metadata": {},
   "outputs": [
    {
     "name": "stdout",
     "output_type": "stream",
     "text": [
      "THIS IS A SAMPLE SENTENCE.\n",
      "this is a sample sentence.\n",
      "This is a sample sentence.\n",
      "This Is A Sample Sentence.\n"
     ]
    }
   ],
   "source": [
    "text = \"This is a sample sentence.\"\n",
    "\n",
    "# Conversion methods\n",
    "print(text.upper())  # Output: THIS IS A SAMPLE SENTENCE.\n",
    "print(text.lower())  # Output: this is a sample sentence.\n",
    "print(text.capitalize())  # Output: This is a sample sentence.\n",
    "print(text.title())  # Output: This Is A Sample Sentence."
   ]
  },
  {
   "cell_type": "markdown",
   "id": "76ffb1a2-bf88-40b3-af09-77c4836e6a86",
   "metadata": {},
   "source": [
    "#### 2. Searching and Finding Methods:\n",
    "\n",
    "1.find(substring): Finds the index of the first occurrence of the substring in the string. Returns -1 if not found.<br>\n",
    "2.rfind(substring): Finds the index of the last occurrence of the substring in the string. Returns -1 if not found.<br>\n",
    "3.startswith(prefix): Checks if the string starts with the specified prefix.<br>\n",
    "4.endswith(suffix): Checks if the string ends with the specified suffix.   <br>\n",
    "5.count(substring): Counts the number of occurrences of the substring in the string."
   ]
  },
  {
   "cell_type": "code",
   "execution_count": 18,
   "id": "defe8d25-6991-4296-9684-21d43f7a5f44",
   "metadata": {},
   "outputs": [
    {
     "name": "stdout",
     "output_type": "stream",
     "text": [
      "10\n",
      "True\n",
      "True\n",
      "2\n"
     ]
    }
   ],
   "source": [
    "text = \"This is a sample sentence.\"\n",
    "\n",
    "# Searching and finding methods\n",
    "print(text.find(\"sample\"))  # Output: 10\n",
    "print(text.startswith(\"This\"))  # Output: True\n",
    "print(text.endswith(\"sentence.\"))  # Output: True\n",
    "print(text.count(\"is\"))  # Output: 2"
   ]
  },
  {
   "cell_type": "markdown",
   "id": "14e58a37-a593-45e6-919a-a47ea38c160c",
   "metadata": {},
   "source": [
    "#### 3. Modifying Strings:\n",
    "\n",
    "replace(old, new): Replaces all occurrences of the old substring with the new substring.<br>\n",
    "strip(): Removes leading and trailing whitespace characters.   <br>\n",
    "lstrip(): Removes leading whitespace characters.<br>\n",
    "rstrip(): Removes trailing whitespace characters.<br>\n",
    "split(separator=None): Splits the string into a list of substrings based on the specified separator.<br>\n",
    "join(iterable): Joins the elements of an iterable (e.g., list, tuple) into a string using the string as a separator."
   ]
  },
  {
   "cell_type": "code",
   "execution_count": 20,
   "id": "06eb4361-12dd-4a6e-bdbb-9c360ef673dd",
   "metadata": {},
   "outputs": [
    {
     "name": "stdout",
     "output_type": "stream",
     "text": [
      "This is a example sentence.\n",
      "This is a sample sentence.\n",
      "['This', 'is', 'a', 'sample', 'sentence.']\n",
      "Hello world\n"
     ]
    }
   ],
   "source": [
    "text = \"This is a sample sentence.\"\n",
    "\n",
    "# Modifying strings\n",
    "print(text.replace(\"sample\", \"example\"))  # Output: This is an example sentence.\n",
    "print(text.strip())  # Output: This is a sample sentence.\n",
    "print(text.split())  # Output: ['This', 'is', 'a', 'sample', 'sentence.']\n",
    "print(\" \".join([\"Hello\", \"world\"]))  # Output: Hello world"
   ]
  },
  {
   "cell_type": "markdown",
   "id": "56d28a98-21c3-41d8-8dda-a1d28038b75f",
   "metadata": {},
   "source": [
    "#### 4. Other Methods:\n",
    "\n",
    "isdigit(): Checks if the string consists of digits only.<br>\n",
    "isalpha(): Checks if the string consists of alphabetic characters only.<br>\n",
    "isalnum(): Checks if the string consists of alphanumeric characters only.<br>\n",
    "isspace(): Checks if the string consists of whitespace characters only.<br>\n"
   ]
  },
  {
   "cell_type": "code",
   "execution_count": 22,
   "id": "352d27f0-cbad-4c23-8609-b4183da4f4aa",
   "metadata": {},
   "outputs": [
    {
     "name": "stdout",
     "output_type": "stream",
     "text": [
      "False\n",
      "False\n",
      "False\n"
     ]
    }
   ],
   "source": [
    "text = \"This is a sample sentence.\"\n",
    "print(text.isdigit())  # Output: False\n",
    "print(text.isalpha())  # Output: False\n",
    "print(text.isspace())  # Output: False"
   ]
  },
  {
   "cell_type": "markdown",
   "id": "33eb2fd9-e818-4eb9-989d-0714b4aac93a",
   "metadata": {},
   "source": [
    "\n",
    "### String Questions\n",
    "\n",
    "1. **Create a String**: Assign the string \"Python Programming\" to a variable named `language`.\n",
    "\n",
    "2. **Access Characters**: What is the first character of the string stored in `language`? \n",
    "\n",
    "3. **Slicing**: Extract the substring \"Programming\" from the `language` variable.\n",
    "\n",
    "4. **Concatenation**: Create a new string by concatenating the string \"Learn \" with the string in `language`. What is the result?\n",
    "\n",
    "5. **Repetition**: Create a new string that repeats the string \"Fun! \" three times. What does this string look like?\n",
    "\n",
    "6. **Length**: What is the length of the string stored in `language`?\n",
    "\n",
    "7. **Upper and Lower Case**: Convert the string in `language` to uppercase. What is the result?\n",
    "\n",
    "8. **Whitespace Stripping**: Create a string with leading and trailing spaces, like `\"   Hello, Python!   \"`, and then remove the spaces. What does the stripped string look like?\n",
    "\n",
    "9. **Finding a Substring**: In the string `language`, find the position of the substring \"thon\". What is the index?\n",
    "\n",
    "10. **String Replacement**: Replace the substring \"Programming\" in `language` with \"Coding\". What is the new string?\n"
   ]
  },
  {
   "cell_type": "markdown",
   "id": "b02987f0-dd04-4b45-8ffc-72efbcefc9ec",
   "metadata": {},
   "source": [
    "# Answer"
   ]
  },
  {
   "cell_type": "code",
   "execution_count": null,
   "id": "5b0d4ded-425d-47c8-954d-3af6e4eb2774",
   "metadata": {},
   "outputs": [],
   "source": []
  },
  {
   "cell_type": "markdown",
   "id": "7caaeca0-427a-4d44-8304-c23b710865ae",
   "metadata": {},
   "source": [
    "--------------------------------------------------------------------------------------------------------------------------------------"
   ]
  },
  {
   "cell_type": "markdown",
   "id": "72cdec99-6d36-4d2a-9ad2-bede35012b72",
   "metadata": {},
   "source": [
    "\"Ab main student se list ke baare mein pooch sakta hoon: 'List kya hoti hai? Ek aisi cheez jo sab kuch ek jagah jama kar leti hai, chahe woh number ho, text ho ya doosri list ho!'\" 😄"
   ]
  },
  {
   "cell_type": "markdown",
   "id": "084f1b72-c2c9-4d0b-8176-7755d1496f08",
   "metadata": {},
   "source": [
    "# 12.What is a list in Python?\n",
    "Answer: A list in Python is an ordered collection of elements. It can contain elements of different data types. Lists are defined using square brackets [] and can be accessed, modified, and iterated over using various methods."
   ]
  },
  {
   "cell_type": "code",
   "execution_count": 23,
   "id": "1ec876ce-17a3-4671-b85b-1459bedc0b93",
   "metadata": {},
   "outputs": [],
   "source": [
    "my_list = [1, 2, 3, \"hello\", \"world\"]"
   ]
  },
  {
   "cell_type": "markdown",
   "id": "373bb0c5-a9b3-4c77-8626-bd5dab547636",
   "metadata": {},
   "source": [
    "Accessing elements:\n",
    "\n",
    "Indexing: Use square brackets to access elements by their index (starting from 0):<br>\n"
   ]
  },
  {
   "cell_type": "code",
   "execution_count": 24,
   "id": "d9ee7d82-2471-437d-b290-6e0ea9d5de79",
   "metadata": {},
   "outputs": [
    {
     "name": "stdout",
     "output_type": "stream",
     "text": [
      "1\n",
      "world\n"
     ]
    }
   ],
   "source": [
    "print(my_list[0])  # Output: 1\n",
    "print(my_list[-1])  # Output: world"
   ]
  },
  {
   "cell_type": "markdown",
   "id": "3b3ce2d3-c004-4105-89fe-4a8bcf67b1d5",
   "metadata": {},
   "source": [
    "Slicing: Extract a sublist using slicing:\n"
   ]
  },
  {
   "cell_type": "code",
   "execution_count": 25,
   "id": "7baafe5d-51a3-4bb1-b84e-f37e65f3e2e9",
   "metadata": {},
   "outputs": [
    {
     "name": "stdout",
     "output_type": "stream",
     "text": [
      "[2, 3]\n"
     ]
    }
   ],
   "source": [
    "print(my_list[1:3])  # Output: [2, 3]"
   ]
  },
  {
   "cell_type": "markdown",
   "id": "38efd0b3-5179-4ad2-91db-eecc122b3b98",
   "metadata": {},
   "source": [
    "Modifying lists:\n",
    "\n",
    "Adding elements:<br>\n",
    "append(element): Adds an element to the end.<br>\n",
    "insert(index, element): Inserts an element at a specific index."
   ]
  },
  {
   "cell_type": "code",
   "execution_count": 26,
   "id": "54ce96ca-86f4-4abf-a8d0-b8c5f9facd64",
   "metadata": {},
   "outputs": [
    {
     "name": "stdout",
     "output_type": "stream",
     "text": [
      "[1, 2, 3, 4]\n",
      "[1, 'hello', 2, 3, 4]\n"
     ]
    }
   ],
   "source": [
    "my_list = [1, 2, 3]\n",
    "\n",
    "# Adding an element to the end using append()\n",
    "my_list.append(4)\n",
    "print(my_list)  # Output: [1, 2, 3, 4]\n",
    "\n",
    "# Inserting an element at a specific index using insert()\n",
    "my_list.insert(1, \"hello\")\n",
    "print(my_list)  # Output: [1, 'hello', 2, 3, 4]"
   ]
  },
  {
   "cell_type": "markdown",
   "id": "d35e7906-2ca8-45f7-9559-ae4aa7c0e77e",
   "metadata": {},
   "source": [
    "###  Methods\n",
    "Python lists provide a wide range of built-in methods for manipulating, modifying, and accessing list elements. Below is a list of commonly used list methods, along with examples of how they work:\n",
    "\n",
    "### 1. **`.append()`**\n",
    "   - Adds a single element to the end of the list.\n",
    "   ```python\n",
    "   my_list = [1, 2, 3]\n",
    "   my_list.append(4)  \n",
    "   # [1, 2, 3, 4]\n",
    "   ```\n",
    "\n",
    "### 2. **`.extend()`**\n",
    "   - Extends the list by appending all elements from another list (or any iterable).\n",
    "   ```python\n",
    "   my_list = [1, 2]\n",
    "   my_list.extend([3, 4, 5])\n",
    "   # [1, 2, 3, 4, 5]\n",
    "   ```\n",
    "\n",
    "### 3. **`.insert()`**\n",
    "   - Inserts an element at a specific index.\n",
    "   ```python\n",
    "   my_list = [1, 2, 4]\n",
    "   my_list.insert(2, 3)  \n",
    "   # [1, 2, 3, 4]\n",
    "   ```\n",
    "\n",
    "### 4. **`.remove()`**\n",
    "   - Removes the first occurrence of a value from the list. Raises a `ValueError` if the value is not found.\n",
    "   ```python\n",
    "   my_list = [1, 2, 3, 4]\n",
    "   my_list.remove(3)\n",
    "   # [1, 2, 4]\n",
    "   ```\n",
    "\n",
    "### 5. **`.pop()`**\n",
    "   - Removes and returns the element at a specific index (default is the last element). Raises an `IndexError` if the list is empty or the index is out of range.\n",
    "   ```python\n",
    "   my_list = [1, 2, 3, 4]\n",
    "   last_item = my_list.pop()  \n",
    "   # last_item = 4, my_list = [1, 2, 3]\n",
    "   \n",
    "   second_item = my_list.pop(1)  \n",
    "   # second_item = 2, my_list = [1, 3]\n",
    "   ```\n",
    "\n",
    "### 6. **`.clear()`**\n",
    "   - Removes all elements from the list, leaving it empty.\n",
    "   ```python\n",
    "   my_list = [1, 2, 3]\n",
    "   my_list.clear()  \n",
    "   # []\n",
    "   ```\n",
    "\n",
    "### 7. **`.index()`**\n",
    "   - Returns the index of the first occurrence of a value. Raises a `ValueError` if the value is not found.\n",
    "   ```python\n",
    "   my_list = [1, 2, 3, 2]\n",
    "   index_of_2 = my_list.index(2)  \n",
    "   # index_of_2 = 1\n",
    "   ```\n",
    "\n",
    "### 8. **`.count()`**\n",
    "   - Returns the number of occurrences of a value in the list.\n",
    "   ```python\n",
    "   my_list = [1, 2, 3, 2]\n",
    "   count_of_2 = my_list.count(2)  \n",
    "   # count_of_2 = 2\n",
    "   ```\n",
    "\n",
    "### 9. **`.sort()`**\n",
    "   - Sorts the list in ascending order (by default). You can pass `reverse=True` to sort in descending order, and `key` for custom sorting logic.\n",
    "   ```python\n",
    "   my_list = [3, 1, 4, 2]\n",
    "   my_list.sort()  \n",
    "   # [1, 2, 3, 4]\n",
    "   \n",
    "   my_list.sort(reverse=True)  \n",
    "   # [4, 3, 2, 1]\n",
    "   \n",
    "   my_list.sort(key=lambda x: -x)  \n",
    "   # [4, 3, 2, 1]\n",
    "   ```\n",
    "\n",
    "### 10. **`.reverse()`**\n",
    "   - Reverses the elements of the list in place (does not sort, just reverses the order).\n",
    "   ```python\n",
    "   my_list = [1, 2, 3, 4]\n",
    "   my_list.reverse()  \n",
    "   # [4, 3, 2, 1]\n",
    "   ```\n",
    "\n",
    "### 11. **`.copy()`**\n",
    "   - Returns a shallow copy of the list (creating a new list with the same elements).\n",
    "   ```python\n",
    "   my_list = [1, 2, 3]\n",
    "   new_list = my_list.copy()  \n",
    "   # new_list = [1, 2, 3]\n",
    "   ```\n",
    "\n",
    "### 12. **`.len()`**\n",
    "   - This is not a method, but a function that returns the number of elements in the list.\n",
    "   ```python\n",
    "   my_list = [1, 2, 3, 4]\n",
    "   length = len(my_list)  \n",
    "   # length = 4\n",
    "   ```\n",
    "\n",
    "### 13. **`.join()`**\n",
    "   - Although not a list method, this string method can be used to concatenate the elements of a list into a single string, assuming all elements are strings.\n",
    "   ```python\n",
    "   words = ['Hello', 'world']\n",
    "   sentence = ' '.join(words)  \n",
    "   # 'Hello world'\n",
    "   ```\n",
    "\n",
    "### 14. **`.del`**\n",
    "   - This is not a list method, but you can use `del` to remove elements or slices from the list.\n",
    "   ```python\n",
    "   my_list = [1, 2, 3, 4]\n",
    "   del my_list[1]  \n",
    "   # [1, 3, 4]\n",
    "\n",
    "   del my_list[:2]  \n",
    "   # [4]\n",
    "   ```\n",
    "\n",
    "These methods are core to working with lists efficiently in Python. Let me know if you want any further explanation or examples for any specific method!"
   ]
  },
  {
   "cell_type": "markdown",
   "id": "917b2461-45f8-4b04-afc2-4b8520dd9eba",
   "metadata": {},
   "source": [
    "\n",
    "### List Questions\n",
    "\n",
    "1. **Create a List**: Create a list named `fruits` containing the following elements: `\"apple\"`, `\"banana\"`, `\"cherry\"`, and `\"date\"`.\n",
    "\n",
    "2. **Access Elements**: What is the first element of the `fruits` list?\n",
    "\n",
    "3. **Slicing**: Extract the elements `\"banana\"` and `\"cherry\"` from the `fruits` list.\n",
    "\n",
    "4. **List Concatenation**: Create another list called `vegetables` with the elements `\"carrot\"` and `\"spinach\"`. Concatenate the `fruits` and `vegetables` lists. What is the resulting list?\n",
    "\n",
    "5. **Repeating a List**: Create a list containing the elements `[1, 2, 3]`. Now create a new list that repeats this list three times. What does the new list look like?\n",
    "\n",
    "6. **List Length**: What is the length of the `fruits` list?\n",
    "\n",
    "7. **List Indexing**: Access the last element of the `fruits` list using negative indexing.\n",
    "\n",
    "8. **List Modification**: Change the second element of the `fruits` list from `\"banana\"` to `\"blueberry\"`. What does the updated list look like?\n",
    "\n",
    "9. **Inserting an Element**: Insert the element `\"kiwi\"` at the third position in the `fruits` list. What does the list look like now?\n",
    "\n",
    "10. **List Deletion**: Remove the last element of the `fruits` list. What does the list look like after removal?\n"
   ]
  },
  {
   "cell_type": "code",
   "execution_count": null,
   "id": "c89a2105-dc7d-4ea7-b832-731ccb18603d",
   "metadata": {},
   "outputs": [],
   "source": []
  },
  {
   "cell_type": "markdown",
   "id": "ff4dacbd-9304-401a-9e86-cc3feb7dd623",
   "metadata": {},
   "source": [
    "-----------------------------------------------------------------------------------------------------------------------------------"
   ]
  },
  {
   "cell_type": "markdown",
   "id": "b8016c43-eb45-47d5-9fe1-a08d47cb81ea",
   "metadata": {},
   "source": [
    "## 13. What is a tuple in Python?"
   ]
  },
  {
   "cell_type": "markdown",
   "id": "0319e105-5c4d-4fa4-bc7a-8927e30e6fee",
   "metadata": {},
   "source": [
    "Tuples in Python are immutable ordered sequences of elements. They are similar to lists but cannot be modified after creation. Tuples are defined using parentheses ()."
   ]
  },
  {
   "cell_type": "markdown",
   "id": "b4480fa1-fd3a-4c4d-a1a7-7acef5f03460",
   "metadata": {},
   "source": [
    "**Creating a Tuple:**\n",
    "\n",
    "```python\n",
    "my_tuple = (1, 2, 3, \"hello\", \"world\")\n",
    "```\n",
    "\n",
    "**Accessing Elements:**\n",
    "\n",
    "* **Indexing:** Use square brackets to access elements by their index (starting from 0):\n",
    "  ```python\n",
    "  print(my_tuple[0])  # Output: 1\n",
    "  print(my_tuple[-1])  # Output: world\n",
    "  ```\n",
    "* **Slicing:** Extract a subtuple using slicing:\n",
    "  ```python\n",
    "  print(my_tuple[1:3])  # Output: (2, 3)\n",
    "  ```\n",
    "\n",
    "**Immutability:**\n",
    "\n",
    "Tuples are **immutable**, which means their elements cannot be changed after creation. Attempting to modify an element will raise a `TypeError`.\n",
    "\n",
    "```python\n",
    "my_tuple[0] = 5  # This will raise a TypeError\n",
    "```\n",
    "\n",
    "**Tuple Methods:**\n",
    "\n",
    "* **`count(element)`:** Returns the number of occurrences of a specific element in the tuple.\n",
    "* **`index(element)`:** Finds the index of the first occurrence of a specific element in the tuple.\n",
    "\n",
    "**Packing and Unpacking:**\n",
    "\n",
    "Tuples can be used for packing multiple values into a single variable and unpacking them into individual variables.\n",
    "\n",
    "```python\n",
    "# Packing\n",
    "my_tuple = (1, 2, 3)\n",
    "\n",
    "# Unpacking\n",
    "x, y, z = my_tuple\n",
    "```\n",
    "\n",
    "**Use Cases:**\n",
    "\n",
    "* **Returning Multiple Values from Functions:** Tuples can be used to return multiple values from a function.\n",
    "* **Immutable Data Structures:** Tuples are often used to represent immutable data, such as coordinates or configuration settings.\n",
    "* **Dictionary Keys:** Tuples can be used as keys in dictionaries.\n",
    "\n",
    "**Key Points:**\n",
    "\n",
    "* Tuples are ordered sequences of elements.\n",
    "* Tuples are immutable.\n",
    "* Tuples can be used for packing and unpacking multiple values.\n",
    "* Tuples can be used as dictionary keys.\n",
    "\n",
    "\n"
   ]
  },
  {
   "cell_type": "code",
   "execution_count": 4,
   "id": "f32e4b71-9294-4b8b-b666-f23a6c81aad2",
   "metadata": {},
   "outputs": [
    {
     "name": "stdout",
     "output_type": "stream",
     "text": [
      "1\n",
      "world\n",
      "(2, 3)\n"
     ]
    }
   ],
   "source": [
    "my_tuple = (1, 2, 3, \"hello\", \"world\")\n",
    "\n",
    "print(my_tuple[0])  # Output: 1\n",
    "print(my_tuple[-1])  # Output: world\n",
    "\n",
    "print(my_tuple[1:3])  # Output: (2, 3)\n",
    "# Packing\n",
    "my_tuple = (1, 2, 3)\n",
    "\n",
    "# Unpacking\n",
    "x, y, z = my_tuple"
   ]
  },
  {
   "cell_type": "code",
   "execution_count": null,
   "id": "10942a92-48fe-4596-8cc5-c5c2c0b5f341",
   "metadata": {},
   "outputs": [],
   "source": [
    "my_tuple = (1, 2, 3, \"hello\", \"world\")\n",
    "my_tuple[0] = 5  # This will raise a TypeError\n"
   ]
  },
  {
   "cell_type": "code",
   "execution_count": 5,
   "id": "e0e5821d-e721-4645-991b-0d0c50293889",
   "metadata": {},
   "outputs": [
    {
     "name": "stdout",
     "output_type": "stream",
     "text": [
      "2\n"
     ]
    }
   ],
   "source": [
    "my_tuple = (1, 2, 3, 2)\n",
    "count = my_tuple.count(2)\n",
    "print(count)  # Output: 2"
   ]
  },
  {
   "cell_type": "code",
   "execution_count": 6,
   "id": "eb5af955-b2b9-42cd-8cea-b24544d915d8",
   "metadata": {},
   "outputs": [
    {
     "name": "stdout",
     "output_type": "stream",
     "text": [
      "1\n",
      "3\n"
     ]
    }
   ],
   "source": [
    "my_tuple = (1, 2, 3, 2)\n",
    "index = my_tuple.index(2)\n",
    "print(index)  # Output: 1\n",
    "\n",
    "# Find the index of the second occurrence\n",
    "index = my_tuple.index(2, 2)\n",
    "print(index)  # Output: 3"
   ]
  },
  {
   "cell_type": "markdown",
   "id": "110a4cb3-d41d-4de6-86d3-bf31b93d0ba5",
   "metadata": {},
   "source": [
    "\n",
    "###  Tuple Questions\n",
    "\n",
    "1. **Create a Tuple**: Create a tuple named `my_tuple` with the following elements: `10`, `20`, `\"apple\"`, and `\"banana\"`.\n",
    "\n",
    "2. **Access Elements**: What is the first element of the tuple `my_tuple`?\n",
    "\n",
    "3. **Slicing a Tuple**: Given the tuple `my_tuple`, slice and retrieve the last two elements. What is the result?\n",
    "\n",
    "4. **Tuple Concatenation**: Create another tuple `new_tuple` with the elements `\"orange\"` and `30`. Concatenate `my_tuple` and `new_tuple`. What does the new tuple look like?\n",
    "\n",
    "5. **Tuple Repetition**: Create a tuple with a single element `\"hello\"`, and repeat it three times. What is the result?\n",
    "\n",
    "6. **Tuple Length**: What is the length of the tuple `my_tuple`?\n",
    "\n",
    "7. **Nested Tuples**: Create a tuple that contains the tuple `my_tuple` as one of its elements. What does the new tuple look like?\n",
    "\n",
    "8. **Tuple Indexing**: Given the tuple `my_tuple`, access the element `\"banana\"` using negative indexing.\n",
    "\n",
    "9. **Immutable Nature**: Given the tuple `my_tuple`, try changing the first element from `10` to `100`. What happens?\n",
    "\n",
    "10. **Membership Test**: Check whether the string `\"apple\"` is present in `my_tuple`.\n",
    "\n",
    "11. **Packing and Unpacking**: Given the tuple `t = (1, 2, 3)`, unpack the values into three variables `a`, `b`, and `c`. What are the values of `a`, `b`, and `c`?\n",
    "\n",
    "12. **Tuple with One Element**: How do you create a tuple with just one element, say `5`? Explain why writing `t = (5)` doesn't create a tuple.\n",
    "\n",
    "13. **Tuple vs List**: What is the primary difference between tuples and lists in Python?\n",
    "\n",
    "14. **Tuple Index Method**: Given the tuple `numbers = (1, 2, 3, 4, 2, 5, 2)`, use the `index()` method to find the position of the first occurrence of `2`.\n",
    "\n",
    "15. **Tuple Count Method**: Use the `count()` method to find out how many times the number `2` appears in the tuple `numbers`.\n",
    "\n",
    "These questions focus on the essential operations related to tuples, including creation, indexing, slicing, immutability, and methods. Let me know if you'd like any answers or explanations!"
   ]
  },
  {
   "cell_type": "markdown",
   "id": "2c1189dc-ccbe-40cb-97d0-11652fea69b6",
   "metadata": {},
   "source": [
    "-------------------------------------------------------------------------------------------------------------------------------------"
   ]
  },
  {
   "cell_type": "markdown",
   "id": "11d3b282-1e5e-467a-b2fb-3501d4f3a383",
   "metadata": {},
   "source": [
    "## 14. What is a Dictionary in Python?"
   ]
  },
  {
   "cell_type": "markdown",
   "id": "870e0384-e9f0-4a0c-b583-048b28f2c3f6",
   "metadata": {},
   "source": [
    "**Dictionaries** in Python are unordered collections of key-value pairs. Each key is unique, and it maps to a corresponding value. Dictionaries are defined using curly braces `{}` or the `dict()` constructor.\n",
    "\n",
    "**Creating a dictionary:**\n",
    "\n",
    "```python\n",
    "my_dict = {\"name\": \"Alice\", \"age\": 30, \"city\": \"New York\"}\n",
    "```\n",
    "\n",
    "**Accessing elements:**\n",
    "\n",
    "Use the key to access the corresponding value:\n",
    "\n",
    "```python\n",
    "print(my_dict[\"name\"])  # Output: Alice\n",
    "```\n",
    "\n",
    "**Modifying elements:**\n",
    "\n",
    "Change the value associated with a key:\n",
    "\n",
    "```python\n",
    "my_dict[\"age\"] = 31\n",
    "```\n",
    "\n",
    "**Adding elements:**\n",
    "\n",
    "Add a new key-value pair:\n",
    "\n",
    "```python\n",
    "my_dict[\"country\"] = \"USA\"\n",
    "```\n",
    "\n",
    "**Removing elements:**\n",
    "\n",
    "* `del my_dict[\"key\"]`: Deletes the key-value pair.\n",
    "* `my_dict.pop(\"key\")`: Removes the key-value pair and returns the value.\n",
    "* `my_dict.popitem()`: Removes and returns an arbitrary key-value pair.\n",
    "\n",
    "**Iterating over dictionaries:**\n",
    "\n",
    "* **Iterate over keys:**\n",
    "  ```python\n",
    "  for key in my_dict:\n",
    "      print(key)\n",
    "  ```\n",
    "* **Iterate over values:**\n",
    "  ```python\n",
    "  for value in my_dict.values():\n",
    "      print(value)\n",
    "  ```\n",
    "* **Iterate over key-value pairs:**\n",
    "  ```python\n",
    "  for key, value in my_dict.items():\n",
    "      print(key, value)\n",
    "  ```\n",
    "\n",
    "**Key points:**\n",
    "\n",
    "* Dictionaries are unordered collections.\n",
    "* Keys must be unique.\n",
    "* Values can be of any data type.\n",
    "* Dictionaries are mutable and can be modified.\n"
   ]
  },
  {
   "cell_type": "code",
   "execution_count": 16,
   "id": "5e71a68c-3247-4e40-9451-11a6a29b1fca",
   "metadata": {},
   "outputs": [
    {
     "name": "stdout",
     "output_type": "stream",
     "text": [
      "Alice\n",
      "{'name': 'Alice', 'age': 31, 'city': 'New York'}\n",
      "{'name': 'Alice', 'age': 31, 'city': 'New York', 'country': 'USA'}\n",
      "{'name': 'Alice', 'age': 31, 'country': 'USA'}\n"
     ]
    }
   ],
   "source": [
    "# Examples\n",
    "\n",
    "person = {\"name\": \"Alice\", \"age\": 30, \"city\": \"New York\"}\n",
    "\n",
    "print(person[\"name\"])  # Output: Alice\n",
    "\n",
    "person[\"age\"] = 31\n",
    "print(person)  # Output: {'name': 'Alice', 'age': 31, 'city': 'New York'}\n",
    "\n",
    "person[\"country\"] = \"USA\"\n",
    "print(person)  # Output: {'name': 'Alice', 'age': 31, 'city': 'New York', 'country': 'USA'}\n",
    "\n",
    "del person[\"city\"]\n",
    "print(person)  # Output: {'name': 'Alice', 'age': 31}\n",
    "\n",
    "\n"
   ]
  },
  {
   "cell_type": "code",
   "execution_count": 17,
   "id": "f5af0050-8613-48d7-8b99-5e7cdcfea697",
   "metadata": {},
   "outputs": [
    {
     "name": "stdout",
     "output_type": "stream",
     "text": [
      "['__class__', '__class_getitem__', '__contains__', '__delattr__', '__delitem__', '__dir__', '__doc__', '__eq__', '__format__', '__ge__', '__getattribute__', '__getitem__', '__gt__', '__hash__', '__init__', '__init_subclass__', '__ior__', '__iter__', '__le__', '__len__', '__lt__', '__ne__', '__new__', '__or__', '__reduce__', '__reduce_ex__', '__repr__', '__reversed__', '__ror__', '__setattr__', '__setitem__', '__sizeof__', '__str__', '__subclasshook__', 'clear', 'copy', 'fromkeys', 'get', 'items', 'keys', 'pop', 'popitem', 'setdefault', 'update', 'values']\n"
     ]
    }
   ],
   "source": [
    "person = {\"name\": \"Alice\", \"age\": 30, \"city\": \"New York\"}\n",
    "print(dir(person))"
   ]
  },
  {
   "cell_type": "markdown",
   "id": "66ef1cd6-bcb9-41de-a10b-cd1c95228dc2",
   "metadata": {},
   "source": [
    "Python dictionaries provide several built-in methods that allow you to manipulate and access data efficiently. Here’s a list of commonly used dictionary methods:\n",
    "\n",
    "### 1. **`.get()`**\n",
    "   - Retrieves the value for a given key. If the key does not exist, it returns `None` (or an optional default value).\n",
    "   ```python\n",
    "   my_dict = {'name': 'Alice', 'age': 25}\n",
    "   name = my_dict.get('name')  # 'Alice'\n",
    "   gender = my_dict.get('gender', 'Unknown')  # 'Unknown'\n",
    "   ```\n",
    "\n",
    "### 2. **`.keys()`**\n",
    "   - Returns a view object containing all the keys in the dictionary.\n",
    "   ```python\n",
    "   my_dict = {'name': 'Alice', 'age': 25}\n",
    "   keys = my_dict.keys()  # dict_keys(['name', 'age'])\n",
    "   ```\n",
    "\n",
    "### 3. **`.values()`**\n",
    "   - Returns a view object containing all the values in the dictionary.\n",
    "   ```python\n",
    "   values = my_dict.values()  # dict_values(['Alice', 25])\n",
    "   ```\n",
    "\n",
    "### 4. **`.items()`**\n",
    "   - Returns a view object containing the key-value pairs as tuples.\n",
    "   ```python\n",
    "   items = my_dict.items()  # dict_items([('name', 'Alice'), ('age', 25)])\n",
    "   ```\n",
    "\n",
    "### 5. **`.update()`**\n",
    "   - Updates the dictionary with key-value pairs from another dictionary or an iterable of key-value pairs. If a key already exists, its value is updated.\n",
    "   ```python\n",
    "   my_dict.update({'age': 26, 'city': 'New York'})  \n",
    "   # {'name': 'Alice', 'age': 26, 'city': 'New York'}\n",
    "   ```\n",
    "\n",
    "### 6. **`.pop()`**\n",
    "   - Removes and returns the value for a given key. Raises a `KeyError` if the key does not exist, unless a default value is provided.\n",
    "   ```python\n",
    "   age = my_dict.pop('age')  # 26\n",
    "   city = my_dict.pop('city', 'Not Found')  # 'New York'\n",
    "   ```\n",
    "\n",
    "### 7. **`.popitem()`**\n",
    "   - Removes and returns the last inserted key-value pair as a tuple. Raises `KeyError` if the dictionary is empty (Python 3.7+ preserves insertion order).\n",
    "   ```python\n",
    "   item = my_dict.popitem()  # ('city', 'New York')\n",
    "   ```\n",
    "\n",
    "### 8. **`.clear()`**\n",
    "   - Removes all key-value pairs from the dictionary, making it empty.\n",
    "   ```python\n",
    "   my_dict.clear()  # {}\n",
    "   ```\n",
    "\n",
    "### 9. **`.copy()`**\n",
    "   - Returns a shallow copy of the dictionary.\n",
    "   ```python\n",
    "   my_dict = {'name': 'Alice', 'age': 25}\n",
    "   new_dict = my_dict.copy()  # {'name': 'Alice', 'age': 25}\n",
    "   ```\n",
    "\n",
    "### 10. **`.setdefault()`**\n",
    "   - Returns the value of a key if it exists. If the key does not exist, it inserts the key with a specified default value and returns the default.\n",
    "   ```python\n",
    "   city = my_dict.setdefault('city', 'Unknown')  # 'Unknown'\n",
    "   ```\n"
   ]
  },
  {
   "cell_type": "markdown",
   "id": "6dbe30e2-8e89-43d3-b616-adc178855ef5",
   "metadata": {},
   "source": [
    "-----------------------------------------------------------------------------------------------------------------------------------"
   ]
  },
  {
   "cell_type": "markdown",
   "id": "ed4453c5-5b62-4fa6-8c56-e50971117a9c",
   "metadata": {},
   "source": [
    "## 15. What is a set in Python?"
   ]
  },
  {
   "cell_type": "markdown",
   "id": "563e94dc-4188-4b1a-b41a-d417e29c4006",
   "metadata": {},
   "source": [
    "**Sets** in Python are unordered collections of unique elements. They are defined using curly braces `{}` or the `set()` constructor.\n",
    "\n",
    "**Creating a set:**\n",
    "\n",
    "```python\n",
    "my_set = {1, 2, 3, \"hello\"}\n",
    "```\n",
    "\n",
    "**Accessing elements:**\n",
    "\n",
    "Sets are unordered, so you cannot access elements by index. However, you can check if an element is in a set using the `in` operator.\n",
    "\n",
    "```python\n",
    "if \"hello\" in my_set:\n",
    "  print(\"hello is in the set\")\n",
    "```\n",
    "\n",
    "**Modifying sets:**\n",
    "\n",
    "* **Adding elements:**\n",
    "  - `add(element)`: Adds an element to the set.\n",
    "  - `update(other_set)`: Adds elements from another set or iterable.\n",
    "* **Removing elements:**\n",
    "  - `remove(element)`: Removes a specific element from the set (raises `KeyError` if not found).\n",
    "  - `discard(element)`: Removes a specific element from the set (does not raise an error if not found).\n",
    "  - `pop()`: Removes and returns an arbitrary element from the set.\n",
    "\n",
    "**Set operations:**\n",
    "\n",
    "* **Union:** `set1 | set2` or `set1.union(set2)`: Returns a new set containing all elements from both sets.\n",
    "* **Intersection:** `set1 & set2` or `set1.intersection(set2)`: Returns a new set containing elements common to both sets.\n",
    "* **Difference:** `set1 - set2` or `set1.difference(set2)`: Returns a new set containing elements in `set1` but not in `set2`.\n",
    "* **Symmetric difference:** `set1 ^ set2` or `set1.symmetric_difference(set2)`: Returns a new set containing elements in either `set1` or `set2`, but not both.\n",
    "\n",
    "**Key points:**\n",
    "\n",
    "* Sets are unordered collections.\n",
    "* Sets cannot contain duplicate elements.\n",
    "* Sets are mutable and can be modified.\n",
    "* Sets support various operations like union, intersection, difference, and symmetric difference.\n",
    "\n",
    "**Example:**\n",
    "\n"
   ]
  },
  {
   "cell_type": "code",
   "execution_count": 9,
   "id": "a21aeccc-17d6-4b95-a4aa-57b0dc378031",
   "metadata": {},
   "outputs": [
    {
     "name": "stdout",
     "output_type": "stream",
     "text": [
      "{1, 2, 3, 4, 5, 6}\n",
      "{1, 3, 4, 5, 6}\n",
      "{1, 2, 3, 4, 5, 6}\n",
      "{3, 4}\n",
      "{1, 5, 6}\n",
      "{1, 2, 5, 6}\n"
     ]
    }
   ],
   "source": [
    "set1 = {1, 2, 3}\n",
    "set2 = {2, 3, 4}\n",
    "\n",
    "# Adding elements\n",
    "set1.add(4)\n",
    "set1.update([5, 6])\n",
    "print(set1)  # Output: {1, 2, 3, 4, 5, 6}\n",
    "\n",
    "# Removing elements\n",
    "set1.remove(2)\n",
    "set1.discard(7)  # Does nothing\n",
    "print(set1)  # Output: {1, 3, 4, 5, 6}\n",
    "\n",
    "# Set operations\n",
    "union_set = set1.union(set2)\n",
    "print(union_set)  # Output: {1, 2, 3, 4, 5, 6}\n",
    "\n",
    "intersection_set = set1.intersection(set2)\n",
    "print(intersection_set)  # Output: {2, 3, 4}\n",
    "\n",
    "difference_set = set1.difference(set2)\n",
    "print(difference_set)  # Output: {1, 5, 6}\n",
    "\n",
    "symmetric_difference_set = set1.symmetric_difference(set2)\n",
    "print(symmetric_difference_set)  # Output: {1, 5, 6}"
   ]
  },
  {
   "cell_type": "markdown",
   "id": "b6b922b3-ed6d-4c35-8fa8-8b3a0c2a3e97",
   "metadata": {},
   "source": [
    "Frozen Sets in Python are immutable sets, meaning their elements cannot be modified once created. They are similar to regular sets but are defined using the frozenset() constructor."
   ]
  },
  {
   "cell_type": "code",
   "execution_count": 12,
   "id": "63d3241d-61cd-4444-b71a-090254e9fd35",
   "metadata": {},
   "outputs": [],
   "source": [
    "my_frozen_set = frozenset([1, 2, 3, \"hello\"])\n",
    "my_frozen_set.add(4)  # This will raise an AttributeError"
   ]
  },
  {
   "cell_type": "markdown",
   "id": "6c43c603-acd7-4254-be58-2c8ed214d035",
   "metadata": {},
   "source": [
    "\n",
    "### Python Set Questions\n",
    "\n",
    "1. **Create a Set**: Create a set named `fruits_set` with the following elements: `\"apple\"`, `\"banana\"`, `\"cherry\"`, and `\"date\"`.\n",
    "\n",
    "2. **Accessing Set Elements**: Since sets are unordered, can you access individual elements using an index like `fruits_set[0]`? Explain what happens if you try.\n",
    "\n",
    "3. **Add an Element**: Add the element `\"orange\"` to the `fruits_set`. What does the set look like now?\n",
    "\n",
    "4. **Remove an Element**: Remove the element `\"banana\"` from the `fruits_set`. What does the set look like after removal?\n",
    "\n",
    "5. **Set Length**: What is the length of the `fruits_set` after adding and removing elements?\n",
    "\n",
    "6. **Set Union**: Given another set `vegetables_set = {\"carrot\", \"spinach\", \"potato\"}`, perform a union of `fruits_set` and `vegetables_set`. What does the resulting set contain?\n",
    "\n",
    "7. **Set Intersection**: Given the sets `A = {1, 2, 3, 4}` and `B = {3, 4, 5, 6}`, find the intersection of `A` and `B`. What is the result?\n",
    "\n",
    "8. **Set Difference**: Using the sets `A = {1, 2, 3, 4}` and `B = {3, 4, 5, 6}`, find the difference between `A` and `B`. What is the result?\n",
    "\n",
    "9. **Set Symmetric Difference**: Using the sets `A = {1, 2, 3, 4}` and `B = {3, 4, 5, 6}`, find the symmetric difference. What is the result?\n",
    "\n",
    "10. **Membership Test**: Check whether `\"apple\"` is in `fruits_set`.\n",
    "\n",
    "11. **Subset Test**: Given `set1 = {1, 2, 3}` and `set2 = {1, 2, 3, 4, 5}`, check if `set1` is a subset of `set2`.\n",
    "\n",
    "12. **Superset Test**: Given `set1 = {1, 2, 3, 4, 5}` and `set2 = {1, 2}`, check if `set1` is a superset of `set2`.\n",
    "\n",
    "13. **Disjoint Sets**: Given `set1 = {1, 2, 3}` and `set2 = {4, 5, 6}`, check if the sets are disjoint (i.e., have no elements in common).\n",
    "\n",
    "14. **Convert List to Set**: Given a list `numbers = [1, 2, 2, 3, 4, 4, 5]`, convert this list to a set to remove duplicates. What does the resulting set look like?\n",
    "\n",
    "15. **Frozen Set**: Create a frozen set from the list `letters = ['a', 'b', 'c', 'd']`. What is a frozen set, and how is it different from a normal set?\n",
    "\n"
   ]
  },
  {
   "cell_type": "code",
   "execution_count": null,
   "id": "f4782d72-5fbf-41d2-be24-5952e1a03bb5",
   "metadata": {},
   "outputs": [],
   "source": []
  }
 ],
 "metadata": {
  "kernelspec": {
   "display_name": "Python 3 (ipykernel)",
   "language": "python",
   "name": "python3"
  },
  "language_info": {
   "codemirror_mode": {
    "name": "ipython",
    "version": 3
   },
   "file_extension": ".py",
   "mimetype": "text/x-python",
   "name": "python",
   "nbconvert_exporter": "python",
   "pygments_lexer": "ipython3",
   "version": "3.10.0"
  }
 },
 "nbformat": 4,
 "nbformat_minor": 5
}
