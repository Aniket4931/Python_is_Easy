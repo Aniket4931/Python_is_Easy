{
 "cells": [
  {
   "cell_type": "markdown",
   "id": "4e70902d-854c-4e60-be16-d9f74065741c",
   "metadata": {},
   "source": [
    "# Jab Koi Nahi Tha Tab Mere Pass Python Tha  \t&#128512;"
   ]
  },
  {
   "cell_type": "markdown",
   "id": "656b7576-f8f9-4246-ae52-86f7610305dd",
   "metadata": {},
   "source": [
    "## 1.What is Programming Language?"
   ]
  },
  {
   "cell_type": "markdown",
   "id": "147a552e-4345-4d49-828a-32442aef0214",
   "metadata": {},
   "source": [
    " Ans: A Programming Language is a set of instructions that allow humans to communicate with computers."
   ]
  },
  {
   "cell_type": "markdown",
   "id": "526b5e31-d414-4988-8e93-734c7e950ef4",
   "metadata": {},
   "source": [
    "## 2.Types Of Programming Language?"
   ]
  },
  {
   "cell_type": "markdown",
   "id": "df5074a9-88b2-4e1b-9fb7-1cb1da814a34",
   "metadata": {},
   "source": [
    "Ans: 1.Procedural: Focus on sequential execution (e.g., C, Pascal).<br>\n",
    "2.Object-Oriented: Model real-world entities as objects (e.g., Java, Python).<br>\n",
    "3.Functional: Express computations as mathematical functions (e.g., Haskell).<br>\n",
    "4.Logic: Represent knowledge as logical statements (e.g., Prolog).<br>\n",
    "5.Scripting: Automate tasks and rapid development (e.g., Python, JavaScript).<br>\n",
    "6.Domain-Specific: Tailored to specific domains (e.g., SQL, HTML)."
   ]
  },
  {
   "cell_type": "markdown",
   "id": "deadb6f3-2e05-49e5-95e3-f6f89c0287e4",
   "metadata": {},
   "source": [
    "## 3.What is Python Language and Why Use?"
   ]
  },
  {
   "cell_type": "markdown",
   "id": "81315ab3-205c-48f0-9a13-523e2db14c2e",
   "metadata": {},
   "source": [
    "Ans : Python is High-Level, general-purpose programming language known for its simplicity, readability, and versatility. It's widely used in various fields, including:\n",
    "1. Web Development:\n",
    "Building dynamic websites and web applications using frameworks like Django and Flask.\n",
    "Creating web APIs for data exchange.\n",
    "\n",
    "3. Data Science and Machine Learning:\n",
    "Analyzing, cleaning, and manipulating large datasets.\n",
    "Developing machine learning models for tasks like prediction, classification, and clustering.\n",
    "\n",
    "5. Scientific Computing:\n",
    "Performing numerical simulations and computations in fields like physics, chemistry, and engineering.\n",
    "\n",
    "4. Automation:\n",
    "Automating repetitive tasks and workflows through scripting.\n",
    "\n",
    "6. Software Development:\n",
    "Building software prototypes and applications.\n",
    "Testing and debugging other programming languages.\n",
    "\n",
    "8. Education:\n",
    "Teaching programming concepts to beginners due to its easy-to-learn syntax.\n",
    "\n",
    "## Why use Python?\n",
    "\n",
    "Readability: Python's code is clean and easy to understand, making it a good choice for beginners and experienced programmers alike.<br>\n",
    "Versatility: Python can be used for a wide range of tasks, making it a valuable tool for developers and scientists.<br>\n",
    "Large Community: Python has a large and active community, providing extensive support, libraries, and frameworks.<br>\n",
    "Cross-Platform Compatibility: Python runs on various operating systems, including Windows, macOS, and Linux.<br>\n",
    "Extensive Libraries: Python comes with a rich standard library and a vast ecosystem of third-party libraries for tasks like data analysis, machine learning, web development, and more."
   ]
  },
  {
   "cell_type": "markdown",
   "id": "df8ec364-741b-4ca8-ba7e-d951311532bb",
   "metadata": {},
   "source": [
    "## 4.Who made Python and how?"
   ]
  },
  {
   "cell_type": "markdown",
   "id": "91ae1577-d498-4498-b33b-ca7be3047a78",
   "metadata": {},
   "source": [
    "Python was created by <b>Guido van Rossum</b>. He designed it to be a high-level, general-purpose programming language emphasizing readability and ease of use. Python's development has been a collaborative effort, with many contributors over the years, overseen by the Python Software Foundation."
   ]
  },
  {
   "cell_type": "markdown",
   "id": "c7885b8c-7e89-4441-9967-606ab609eb0c",
   "metadata": {},
   "source": [
    "## 5.How to Install Python?"
   ]
  },
  {
   "cell_type": "markdown",
   "id": "58e5266d-23c6-4ef8-8bfe-4941393e4ccf",
   "metadata": {},
   "source": [
    "1.Download: Go to https://www.python.org/downloads/ and download the installer for your OS.<br>\n",
    "2.Install: Run the installer and follow instructions.<br>\n",
    "3.Verify: Open a terminal and type python --version."
   ]
  },
  {
   "cell_type": "markdown",
   "id": "e5688979-533d-409d-a8f9-943fe559edfe",
   "metadata": {},
   "source": [
    "## 6.How to install Jupyter notebook?"
   ]
  },
  {
   "cell_type": "markdown",
   "id": "0e0d99d1-58af-4007-bae7-b8b0379f406d",
   "metadata": {},
   "source": [
    "1.Use pip: pip install jupyter<br>\n",
    "2.Use Anaconda: Download and install Anaconda  https://www.anaconda.com/download, which includes Jupyter Notebook.<br>\n",
    "3.Verify: Open a terminal and type jupyter notebook.<br>"
   ]
  },
  {
   "cell_type": "markdown",
   "id": "c4097cc9-6501-4229-8d5e-d85873b0b8d5",
   "metadata": {},
   "source": [
    "# Ab baat karenge Python ki, jisme `print()` se duniya ko bata sakte ho, 'Hello World!' 😄"
   ]
  },
  {
   "cell_type": "markdown",
   "id": "4602fb8d-0538-44ea-9fb1-b4a080f00ea2",
   "metadata": {},
   "source": [
    "## 7.What is a Variable in Python?"
   ]
  },
  {
   "cell_type": "markdown",
   "id": "b53ee75a-cda8-49da-8b52-842826429d94",
   "metadata": {},
   "source": [
    "A variable in Python is a symbolic name or reference used to store data values. Variables act as containers for storing data values, which can be used and manipulated throughout a program.<br>\n",
    "\n",
    "Rules for Naming Variables:<br>\n",
    "1. Variable names must start with a letter (A-Z, a-z) or an underscore (_).<br>\n",
    "2. The rest of the name can contain letters, digits (0-9), or underscores.<br>\n",
    "\n",
    "3. Variable names cannot start with a number.<br>\n",
    "\n",
    "4. Avoid using Python keywords (like if, while, for, etc.) as variable names."
   ]
  },
  {
   "cell_type": "code",
   "execution_count": 2,
   "id": "e0807ad0-b3e1-4b8e-9db6-66c03719c146",
   "metadata": {},
   "outputs": [
    {
     "name": "stdout",
     "output_type": "stream",
     "text": [
      "Aniket\n",
      "22\n",
      "3.14159\n"
     ]
    }
   ],
   "source": [
    "name = \"Aniket\"   # String variable\n",
    "age = 22          # Integer variable\n",
    "pi = 3.14159      # Float variable\n",
    "\n",
    "print(name)       # Output: Aniket\n",
    "print(age)        # Output: 22\n",
    "print(pi)         # Output: 3.14159\n"
   ]
  },
  {
   "cell_type": "markdown",
   "id": "501f4896-118c-4ed8-9174-88a728b10e3d",
   "metadata": {},
   "source": [
    "## 8.What is the print() function in Python?\n",
    "Answer: The print() function is used to display output to the console. It takes one or more arguments and prints their values, separated by spaces, followed by a newline character.<br>"
   ]
  },
  {
   "cell_type": "markdown",
   "id": "d88b316f-f656-4820-b739-dfe782f0a993",
   "metadata": {},
   "source": [
    "print(\"Hello, world!\")<br>\n",
    "\n",
    "#### Multiple arguments:\n",
    "name = \"Aniket\"<br>\n",
    "age = 22<br>\n",
    "print(\"My name is\", name, \"and I am\", age, \"years old.\")<br>\n",
    "\n",
    "#### Formatting output:\n",
    "You can use the format() method or f-strings to format the output:\n",
    "Python\n",
    "name = \"Alice\"\n",
    "age = 30\n",
    "print(\"My name is {} and I am {} years old.\".format(name, age))\n",
    "#### Or using f-strings:\n",
    "print(f\"My name is {name} and I am {age} years old.\")"
   ]
  },
  {
   "cell_type": "code",
   "execution_count": 25,
   "id": "ff984bd5-25ac-40b2-aa72-16bb2105792e",
   "metadata": {},
   "outputs": [
    {
     "name": "stdout",
     "output_type": "stream",
     "text": [
      "Hello, world!\n",
      "My name is Aniket and I am 22 years old.\n",
      "My name is Aniket and I am 22 years old.\n"
     ]
    }
   ],
   "source": [
    "print(\"Hello, world!\")\n",
    "name = \"Aniket\"\n",
    "age = 22\n",
    "print(\"My name is\", name, \"and I am\", age, \"years old.\") #Multiple arguments\n",
    "print(f\"My name is {name} and I am {age} years old.\") # fString"
   ]
  },
  {
   "cell_type": "markdown",
   "id": "9011277e-9dc1-4d75-bdf1-92bf0c5fe9a8",
   "metadata": {},
   "source": [
    "## 9.What is the type() function in Python?\n",
    "Answer: The type() function is used to determine the data type of an object. It takes an object as an argument and returns its type as a class object."
   ]
  },
  {
   "cell_type": "code",
   "execution_count": 27,
   "id": "59f2bc47-16da-44ed-9922-a4385d96c6a7",
   "metadata": {},
   "outputs": [
    {
     "name": "stdout",
     "output_type": "stream",
     "text": [
      "<class 'int'>\n",
      "<class 'float'>\n",
      "<class 'str'>\n",
      "<class 'list'>\n"
     ]
    }
   ],
   "source": [
    "x = 10\n",
    "y = 3.14\n",
    "z = \"Hello\"\n",
    "my_list = [1, 2, 3]\n",
    "\n",
    "print(type(x))  # Output: <class 'int'>\n",
    "print(type(y))  # Output: <class 'float'>\n",
    "print(type(z))  # Output: <class 'str'>\n",
    "print(type(my_list))  # Output: <class 'list'>"
   ]
  },
  {
   "cell_type": "markdown",
   "id": "0186305e-2013-4358-8469-16ef1ccc8c4e",
   "metadata": {},
   "source": [
    "### 10.What are comments in Python?\n",
    "Answer: Comments are lines of text in your code that are ignored by the Python interpreter. They are used to explain your code, make it more readable, and document its functionality.<br>\n",
    "There are two types: single-line comments (#) and multi-line comments (\"\"\")."
   ]
  },
  {
   "cell_type": "code",
   "execution_count": 28,
   "id": "e82bed89-3df5-4f0d-a4b3-ed7ee32ea0f9",
   "metadata": {},
   "outputs": [
    {
     "name": "stdout",
     "output_type": "stream",
     "text": [
      "Hello, world!\n"
     ]
    }
   ],
   "source": [
    "# This is a single-line comment\n",
    "print(\"Hello, world!\")  # This is another comment"
   ]
  },
  {
   "cell_type": "code",
   "execution_count": 29,
   "id": "00fbdb0d-1179-4fa8-a6f3-465bb6399acc",
   "metadata": {},
   "outputs": [
    {
     "name": "stdout",
     "output_type": "stream",
     "text": [
      "Hello, world!\n"
     ]
    }
   ],
   "source": [
    "\"\"\"\n",
    "This is a multi-line comment.\n",
    "It can span multiple lines.\n",
    "\"\"\"\n",
    "\n",
    "print(\"Hello, world!\")"
   ]
  },
  {
   "cell_type": "markdown",
   "id": "99f95b3e-b063-41fe-b2f2-5df6d2f8228b",
   "metadata": {},
   "source": [
    "## 11.Python Keywords"
   ]
  },
  {
   "cell_type": "markdown",
   "id": "4d6c3fa1-e7c3-47b8-9cf4-4ed5b8918a75",
   "metadata": {},
   "source": [
    "\n",
    "\n",
    "Keywords in Python are reserved words that have specific meanings and cannot be used as variable names or identifiers. They are essential for the structure and functionality of Python programs.\n",
    "\n",
    "Here is a list of common Python keywords:\n",
    "\n",
    "**Flow Control:**\n",
    "\n",
    "* `if`, `else`, `elif`: Conditional statements\n",
    "* `for`: Looping construct\n",
    "* `while`: Looping construct\n",
    "* `break`: Breaks out of a loop\n",
    "* `continue`: Skips the current iteration of a loop\n",
    "* `pass`: Placeholder statement\n",
    "\n",
    "**Data Types:**\n",
    "\n",
    "* `None`: Represents the absence of a value\n",
    "* `True`, `False`: Boolean values\n",
    "* `and`, `or`, `not`: Logical operators\n",
    "* `in`, `not in`: Membership operators\n",
    "* `is`, `is not`: Identity operators\n",
    "\n",
    "**Functions and Classes:**\n",
    "\n",
    "* `def`: Defines a function\n",
    "* `class`: Defines a class\n",
    "* `return`: Returns a value from a function\n",
    "* `yield`: Returns a generator object\n",
    "* `import`: Imports modules\n",
    "\n",
    "**Exceptions:**\n",
    "\n",
    "* `try`, `except`, `else`, `finally`: Exception handling statements\n",
    "* `raise`: Raises an exception\n",
    "\n",
    "**Other Keywords:**\n",
    "\n",
    "* `assert`: Asserts a condition is true\n",
    "* `del`: Deletes an object\n",
    "* `with`: Context manager\n",
    "* `global`: Declares a global variable\n",
    "* `nonlocal`: Declares a nonlocal variable\n",
    "* `lambda`: Creates an anonymous function\n",
    "* `async`, `await`: Asynchronous programming keywords\n",
    "\n",
    "**Note:** This list is not exhaustive. Python introduces new keywords with each version. It's always a good practice to refer to the official Python documentation for the most up-to-date list.\n"
   ]
  },
  {
   "cell_type": "markdown",
   "id": "efc1a3df-4722-4218-9253-2563ea48b196",
   "metadata": {},
   "source": [
    "## 12.Python Operators\n"
   ]
  },
  {
   "cell_type": "markdown",
   "id": "4164b83e-f8ab-4c63-a495-95cfa40f740f",
   "metadata": {},
   "source": [
    "\n",
    "Operators are symbols used to perform operations on operands (values or variables). Python supports various types of operators:\n",
    "\n",
    "**1. Arithmetic Operators:**\n",
    "\n",
    "* `+`: Addition\n",
    "* `-`: Subtraction\n",
    "* `*`: Multiplication\n",
    "* `/`: Division\n",
    "* `//`: Floor division (rounds down to the nearest integer)\n",
    "* `%`: Modulus (returns the remainder of division)\n",
    "* `**`: Exponentiation\n",
    "\n",
    "**2. Comparison Operators:**\n",
    "\n",
    "* `==`: Equal to\n",
    "* `!=`: Not equal to\n",
    "* `<`: Less than\n",
    "* `>`: Greater than\n",
    "* `<=`: Less than or equal to\n",
    "* `>=`: Greater than or equal to\n",
    "\n",
    "**3. Logical Operators:**\n",
    "\n",
    "* `and`: Logical AND (both operands must be true)\n",
    "* `or`: Logical OR (at least one operand must be true)\n",
    "* `not`: Logical NOT (negates the operand)\n",
    "\n",
    "**4. Bitwise Operators:**\n",
    "\n",
    "* `&`: Bitwise AND\n",
    "* `|`: Bitwise OR\n",
    "* `^`: Bitwise XOR\n",
    "* `~`: Bitwise NOT\n",
    "* `<<`: Left shift\n",
    "* `>>`: Right shift\n",
    "\n",
    "**5. Membership Operators:**\n",
    "\n",
    "* `in`: Checks if an element is in a sequence\n",
    "* `not in`: Checks if an element is not in a sequence\n",
    "\n",
    "**6. Identity Operators:**\n",
    "\n",
    "* `is`: Checks if two objects are the same object\n",
    "* `is not`: Checks if two objects are not the same object\n",
    "\n",
    "\n"
   ]
  },
  {
   "cell_type": "markdown",
   "id": "414e400b-373c-4dc9-85cb-7cbdf931c822",
   "metadata": {},
   "source": [
    "### 1. Arithmetic Operators:"
   ]
  },
  {
   "cell_type": "code",
   "execution_count": null,
   "id": "76632a25-ebbf-418d-93fd-2e5ff6415a35",
   "metadata": {},
   "outputs": [],
   "source": [
    "x = 10\n",
    "y = 5\n",
    "\n",
    "# Addition\n",
    "result = x + y\n",
    "print(result)  # Output: 15\n",
    "\n",
    "# Subtraction\n",
    "result = x - y\n",
    "print(result)  # Output: 5\n",
    "\n",
    "# Multiplication\n",
    "result = x * y\n",
    "print(result)  # Output: 50\n",
    "\n",
    "# Division\n",
    "result = x / y\n",
    "print(result)  # Output: 2.0\n",
    "\n",
    "# Floor division\n",
    "result = x // y\n",
    "print(result)  # Output: 2\n",
    "\n",
    "# Modulus\n",
    "result = x % y\n",
    "print(result)  # Output: 0\n",
    "\n",
    "# Exponentiation\n",
    "result = x ** y\n",
    "print(result)  # Output: 100000"
   ]
  },
  {
   "cell_type": "markdown",
   "id": "3a626c37-920f-4d14-8be4-587032e3b8d6",
   "metadata": {},
   "source": [
    "### 2. Comparison Operators:"
   ]
  },
  {
   "cell_type": "code",
   "execution_count": 3,
   "id": "bf7065f1-ba59-4cc0-93c4-0eb6ec4ea707",
   "metadata": {},
   "outputs": [
    {
     "name": "stdout",
     "output_type": "stream",
     "text": [
      "x is not equal to y\n",
      "x is not equal to y\n",
      "x is not less than y\n",
      "x is greater than y\n",
      "x is not less than or equal to y\n",
      "x is greater than or equal to y\n"
     ]
    }
   ],
   "source": [
    "x = 10\n",
    "y = 5\n",
    "\n",
    "# Equal to\n",
    "if x == y:\n",
    "    print(\"x is equal to y\")\n",
    "else:\n",
    "    print(\"x is not equal to y\")\n",
    "\n",
    "# Not equal to\n",
    "if x != y:\n",
    "    print(\"x is not equal to y\")\n",
    "else:\n",
    "    print(\"x is equal to y\")\n",
    "\n",
    "# Less than\n",
    "if x < y:\n",
    "    print(\"x is less than y\")\n",
    "else:\n",
    "    print(\"x is not less than y\")\n",
    "\n",
    "# Greater than\n",
    "if x > y:\n",
    "    print(\"x is greater than y\")\n",
    "else:\n",
    "    print(\"x is not greater than y\")\n",
    "\n",
    "# Less than or equal to\n",
    "if x <= y:\n",
    "    print(\"x is less than or equal to y\")\n",
    "else:\n",
    "    print(\"x is not less than or equal to y\")\n",
    "\n",
    "# Greater than or equal to\n",
    "if x >= y:\n",
    "    print(\"x is greater than or equal to y\")\n",
    "else:\n",
    "    print(\"x is not greater than or equal to y\")"
   ]
  },
  {
   "cell_type": "markdown",
   "id": "2b1a1b84-0d31-4ffb-8a90-e02f0b52ba28",
   "metadata": {},
   "source": [
    "### 3. Logical Operators:\n"
   ]
  },
  {
   "cell_type": "code",
   "execution_count": 4,
   "id": "04ab2144-e3b3-48a9-8ac4-1f3e1f8cdd7b",
   "metadata": {},
   "outputs": [
    {
     "name": "stdout",
     "output_type": "stream",
     "text": [
      "At least one of x or y is false\n",
      "At least one of x or y is true\n",
      "x is true\n"
     ]
    }
   ],
   "source": [
    "x = True\n",
    "y = False\n",
    "\n",
    "# Logical AND\n",
    "if x and y:\n",
    "    print(\"Both x and y are true\")\n",
    "else:\n",
    "    print(\"At least one of x or y is false\")\n",
    "\n",
    "# Logical OR\n",
    "if x or y:\n",
    "    print(\"At least one of x or y is true\")\n",
    "else:\n",
    "    print(\"Both x and y are false\")\n",
    "\n",
    "# Logical NOT\n",
    "if not x:\n",
    "    print(\"x is false\")\n",
    "else:\n",
    "    print(\"x is true\")"
   ]
  },
  {
   "cell_type": "markdown",
   "id": "2b402707-9e08-4096-8671-37e93a3a381f",
   "metadata": {},
   "source": [
    "### 4. Bitwise Operators:\n",
    "\n"
   ]
  },
  {
   "cell_type": "code",
   "execution_count": 5,
   "id": "6346b0ed-1bb6-4312-825c-24b2431ddeef",
   "metadata": {},
   "outputs": [
    {
     "name": "stdout",
     "output_type": "stream",
     "text": [
      "0\n",
      "15\n",
      "15\n",
      "-11\n",
      "40\n",
      "2\n"
     ]
    }
   ],
   "source": [
    "x = 10\n",
    "y = 5\n",
    "\n",
    "# Bitwise AND\n",
    "result = x & y\n",
    "print(result)  # Output: 0\n",
    "\n",
    "# Bitwise OR\n",
    "result = x | y\n",
    "print(result)  # Output: 15\n",
    "\n",
    "# Bitwise XOR\n",
    "result = x ^ y\n",
    "print(result)  # Output: 15\n",
    "\n",
    "# Bitwise NOT\n",
    "result = ~x\n",
    "print(result)  # Output: -11\n",
    "\n",
    "# Left shift\n",
    "result = x << 2\n",
    "print(result)  # Output: 40\n",
    "\n",
    "# Right shift\n",
    "result = x >> 2\n",
    "print(result)  # Output: 2"
   ]
  },
  {
   "cell_type": "markdown",
   "id": "31ad0690-1b2e-422d-ae9a-ae39699cda42",
   "metadata": {},
   "source": [
    "### 5. Membership Operators:\n",
    "\n"
   ]
  },
  {
   "cell_type": "code",
   "execution_count": 6,
   "id": "c6d63446-95fe-46e7-a857-be02b43fe0bf",
   "metadata": {},
   "outputs": [
    {
     "name": "stdout",
     "output_type": "stream",
     "text": [
      "2 is in the list\n",
      "4 is not in the list\n"
     ]
    }
   ],
   "source": [
    "my_list = [1, 2, 3]\n",
    "\n",
    "# Check if an element is in a sequence\n",
    "if 2 in my_list:\n",
    "    print(\"2 is in the list\")\n",
    "else:\n",
    "    print(\"2 is not in the list\")\n",
    "\n",
    "# Check if an element is not in a sequence\n",
    "if 4 not in my_list:\n",
    "    print(\"4 is not in the list\")\n",
    "else:\n",
    "    print(\"4 is in the list\")"
   ]
  },
  {
   "cell_type": "markdown",
   "id": "248b686c-26bf-4f1c-ad67-ef8a7ab2bdf5",
   "metadata": {},
   "source": [
    "### 6. Identity Operators:\n",
    "\n"
   ]
  },
  {
   "cell_type": "code",
   "execution_count": 7,
   "id": "df05774f-bbdc-45bb-9777-2ad597376a93",
   "metadata": {},
   "outputs": [
    {
     "name": "stdout",
     "output_type": "stream",
     "text": [
      "x and y are the same object\n",
      "x and y are the same object\n"
     ]
    }
   ],
   "source": [
    "x = 10\n",
    "y = 10\n",
    "\n",
    "# Check if two objects are the same object\n",
    "if x is y:\n",
    "    print(\"x and y are the same object\")\n",
    "else:\n",
    "    print(\"x and y are not the same object\")\n",
    "\n",
    "# Check if two objects are not the same object\n",
    "if x is not y:\n",
    "    print(\"x and y are not the same object\")\n",
    "else:\n",
    "    print(\"x and y are the same object\")"
   ]
  },
  {
   "cell_type": "markdown",
   "id": "84a8cfb1-b699-46c2-afb2-86c883fa9e22",
   "metadata": {},
   "source": [
    "### 13.Conditional Statements in Python\n",
    "\n",
    "Conditional statements allow you to control the flow of your program based on certain conditions. Python provides the following conditional statements:\n",
    "\n",
    "**1. `if` statement:**\n",
    "\n",
    "* Executes a block of code if a specified condition is true.\n",
    "\n",
    "**Syntax:**\n",
    "\n",
    "```python\n",
    "if condition:\n",
    "  # Code to execute if condition is true\n",
    "```\n",
    "\n",
    "**Example:**\n",
    "\n",
    "\n",
    "\n"
   ]
  },
  {
   "cell_type": "code",
   "execution_count": 8,
   "id": "d8022eff-dcb2-4006-864e-4495d55b7808",
   "metadata": {},
   "outputs": [
    {
     "name": "stdout",
     "output_type": "stream",
     "text": [
      "You are an adult.\n"
     ]
    }
   ],
   "source": [
    "age = 18\n",
    "if age >= 18:\n",
    "  print(\"You are an adult.\")"
   ]
  },
  {
   "cell_type": "markdown",
   "id": "72b72ee7-a416-40c6-b57b-abe0896cb937",
   "metadata": {},
   "source": [
    "**2. `if-else` statement:**\n",
    "\n",
    "* Executes one block of code if a condition is true, and another block if it's false.\n",
    "\n",
    "**Syntax:**\n",
    "\n",
    "```python\n",
    "if condition:\n",
    "  # Code to execute if condition is true\n",
    "else:\n",
    "  # Code to execute if condition is false\n",
    "```\n",
    "\n",
    "**Example:**\n"
   ]
  },
  {
   "cell_type": "code",
   "execution_count": 9,
   "id": "e9b3daab-1faf-498e-ab3c-81e5d5304cd0",
   "metadata": {},
   "outputs": [
    {
     "name": "stdout",
     "output_type": "stream",
     "text": [
      "You are a minor.\n"
     ]
    }
   ],
   "source": [
    "age = 17\n",
    "if age >= 18:\n",
    "  print(\"You are an adult.\")\n",
    "else:\n",
    "  print(\"You are a minor.\")"
   ]
  },
  {
   "cell_type": "markdown",
   "id": "84b61fd6-fccd-43f8-8789-2edbec92c8fb",
   "metadata": {},
   "source": [
    "\n",
    "\n",
    "**3. `if-elif-else` statement:**\n",
    "\n",
    "* Allows you to check multiple conditions and execute the corresponding code block.\n",
    "\n",
    "**Syntax:**\n",
    "\n",
    "```python\n",
    "if condition1:\n",
    "  # Code to execute if condition1 is true\n",
    "elif condition2:\n",
    "  # Code to execute if condition1 is false and condition2 is true\n",
    "else:\n",
    "  # Code to execute if none of the conditions are true\n",
    "```\n",
    "\n",
    "**Example:**\n",
    "\n"
   ]
  },
  {
   "cell_type": "code",
   "execution_count": 11,
   "id": "bc8a7c86-238a-4804-9da4-97bdda3aeb60",
   "metadata": {},
   "outputs": [
    {
     "name": "stdout",
     "output_type": "stream",
     "text": [
      "B\n"
     ]
    }
   ],
   "source": [
    "grade = 85\n",
    "\n",
    "if grade >= 90:\n",
    "  print(\"A\")\n",
    "elif grade >= 80:\n",
    "  print(\"B\")\n",
    "elif grade >= 70:\n",
    "  print(\"C\")\n",
    "else:\n",
    "  print(\"F\")"
   ]
  },
  {
   "cell_type": "markdown",
   "id": "6ccd796a-5b78-4c39-8f33-d7706162000b",
   "metadata": {},
   "source": [
    "\n",
    "\n",
    "**Nested conditional statements:**\n",
    "\n",
    "You can nest conditional statements within each other to create more complex logic.\n",
    "\n",
    "**Example:**\n",
    "\n"
   ]
  },
  {
   "cell_type": "code",
   "execution_count": 12,
   "id": "94372708-319c-480d-bcf8-ff4dc7f634cc",
   "metadata": {},
   "outputs": [
    {
     "name": "stdout",
     "output_type": "stream",
     "text": [
      "x is positive and greater than y.\n"
     ]
    }
   ],
   "source": [
    "x = 10\n",
    "y = 5\n",
    "\n",
    "if x > y:\n",
    "  if x > 0:\n",
    "    print(\"x is positive and greater than y.\")\n",
    "  else:\n",
    "    print(\"x is negative and greater than y.\")\n",
    "else:\n",
    "  print(\"x is less than or equal to y.\")"
   ]
  },
  {
   "cell_type": "markdown",
   "id": "29e05bed-dafc-4a37-89c5-6ebb5ffc195c",
   "metadata": {},
   "source": []
  },
  {
   "cell_type": "markdown",
   "id": "efb22223-08de-48fd-9a4e-d5cef19597be",
   "metadata": {},
   "source": [
    "## 14. Data types"
   ]
  },
  {
   "cell_type": "markdown",
   "id": "973e79c4-69ca-4a2c-a65a-d59fafa11751",
   "metadata": {},
   "source": [
    "\"Ab baat karenge Python ke data types ki, jahan:\n",
    "\n",
    "- `int`: Integers ko dikhata hai jaise 42, bina kisi drama ke.\n",
    "- `float`: Thoda float karta hai decimal ke saath, jaise 3.14.\n",
    "- `str`: Strings jo text ka sath nibhata hai, 'Hello' jaise.\n",
    "- `list`: Ek list jisme sab kuch fit hota hai, jaise [1, 2, 'Python'].\n",
    "- `tuple`: List ka serious bhai, jo fix rehta hai, jaise (1, 2, 'Python').\n",
    "- `dict`: Dictionary jisme keys aur values ka rishta hota hai, jaise {'name': 'Python', 'version': 3}.\n",
    "- `set`: Ajeeb cheez jo unique values ka chakkar rakhta hai, jaise {1, 2, 3}.\n",
    "\n",
    "In sab se Python ko data ka king banaya jata hai!\" 😄"
   ]
  },
  {
   "cell_type": "markdown",
   "id": "ad2baf4a-8f4f-4221-a2db-ef2d310721f1",
   "metadata": {},
   "source": [
    "-----------------------------------------------------------------------------------------------------------"
   ]
  },
  {
   "cell_type": "markdown",
   "id": "5386f120-5d2a-4a5a-90e7-5e4a853a3c03",
   "metadata": {},
   "source": [
    "Python is a dynamically typed language, which means you don't need to explicitly declare the data type of a variable before assigning a value to it. The interpreter automatically infers the data type based on the value"
   ]
  },
  {
   "cell_type": "markdown",
   "id": "b51c00c6-0371-47c0-854f-225ddc9beea2",
   "metadata": {},
   "source": [
    "#### 1.Numeric Types\n",
    "These are used to store numbers, including integers, floating-point numbers, and complex numbers.<br>\n",
    "\n",
    "1.int: Represents whole numbers, positive or negative, without decimals.<br>\n",
    "x = 5      # Integer<br>\n",
    "y = -10    # Integer<br>\n",
    "\n",
    "2.float: Represents floating-point numbers (numbers with decimal points).<br>\n",
    "pi = 3.14   # Float<br>\n",
    "temp = -5.67 # Float<br>\n",
    "\n",
    "3.complex: Represents complex numbers with real and imaginary parts.<br>\n",
    "z = 3 + 4j   # Complex number\n"
   ]
  },
  {
   "cell_type": "code",
   "execution_count": 9,
   "id": "3de7729c-a64c-4716-a9ed-779c76d0bee2",
   "metadata": {},
   "outputs": [
    {
     "name": "stdout",
     "output_type": "stream",
     "text": [
      "5 = <class 'int'>\n",
      "-10 = <class 'int'>\n",
      "3.14 = <class 'float'>\n",
      "-5.67 = <class 'float'>\n",
      "(3+4j) = <class 'complex'>\n"
     ]
    }
   ],
   "source": [
    "x=5 #Integer\n",
    "y=-10 #Integer\n",
    "pi=3.14 #Float\n",
    "temp=-5.67 #Float\n",
    "z=3+4j #Complex\n",
    "print(x,\"=\",type(x))\n",
    "print(y,\"=\",type(y))\n",
    "print(pi,\"=\",type(pi))\n",
    "print(temp,\"=\",type(temp))\n",
    "print(z,\"=\",type(z))"
   ]
  },
  {
   "cell_type": "markdown",
   "id": "aa3c82b5-090f-45f8-9ef1-86fa22ac9e92",
   "metadata": {},
   "source": [
    "#### 2.Sequence Types\n",
    "These data types store collections of items (multiple values) in a particular order.<br>\n",
    "\n",
    "1.str (String): Represents a sequence of characters (text).<br>\n",
    "name = \"Aniket\"   # String<br>\n",
    "sentence = 'Hello, World!'  # String<br>\n",
    "\n",
    "2.list: A mutable (changeable) collection of ordered items. Lists can contain elements of different data types.<br>\n",
    "my_list = [1, 2, 3, \"apple\", True]   # List with mixed types<br>\n",
    "my_list[0] = 100   # Lists are mutable, you can change elements<br>\n",
    "\n",
    "3.tuple: An immutable (unchangeable) collection of ordered items.<br>\n",
    "my_tuple = (10, 20, \"banana\")  # Tuple<br>\n",
    "my_tuple[0] = 30  # This will raise an error because tuples are immutable"
   ]
  },
  {
   "cell_type": "code",
   "execution_count": 11,
   "id": "c6e7d589-fc2e-4f4b-9ff1-842c7d4f78c1",
   "metadata": {},
   "outputs": [
    {
     "name": "stdout",
     "output_type": "stream",
     "text": [
      "Aniket :  <class 'str'>\n",
      "Hello, World! :  <class 'str'>\n",
      "[1, 2, 3, 'apple', True] :  <class 'list'>\n",
      "(10, 20, 'banana') :  <class 'tuple'>\n"
     ]
    }
   ],
   "source": [
    "name=\"Aniket\"\n",
    "sentence = 'Hello, World!' # String\n",
    "my_list = [1, 2, 3, \"apple\", True] # List\n",
    "my_tuple = (10, 20, \"banana\") # Tuple\n",
    "print(name,\": \",type(name))\n",
    "print(sentence,\": \",type(sentence))\n",
    "print(my_list,\": \",type(my_list))\n",
    "print(my_tuple,\": \",type(my_tuple))"
   ]
  },
  {
   "cell_type": "markdown",
   "id": "7715455c-9a2e-4266-8641-fd4394e35f96",
   "metadata": {},
   "source": [
    "#### 3. Boolean Type\n",
    "This type represents logical values: True or False. It is often used in conditional statements.<br>\n",
    "is_active = True<br>\n",
    "is_verified = False"
   ]
  },
  {
   "cell_type": "code",
   "execution_count": 16,
   "id": "a08d27bd-4bdb-4dfe-b125-c47fc5c6e686",
   "metadata": {},
   "outputs": [
    {
     "name": "stdout",
     "output_type": "stream",
     "text": [
      "True :  <class 'bool'>\n",
      "False :  <class 'bool'>\n"
     ]
    }
   ],
   "source": [
    "is_active = True\n",
    "is_verified = False\n",
    "print(is_active,\": \",type(is_active))\n",
    "print(is_verified,\": \",type(is_verified))"
   ]
  },
  {
   "cell_type": "markdown",
   "id": "eb366de4-0dbd-4d01-8851-58f353d358e3",
   "metadata": {},
   "source": [
    "#### 4. Set Types\n",
    "These are collections of unordered, unique items.<br>\n",
    "1.set: An unordered collection of unique items.<br>\n",
    "my_set = {1, 2, 3, \"apple\", \"banana\"}  # Set<br>\n",
    " 2.frozenset: An immutable version of a set.<br>\n",
    "frozen = frozenset([1, 2, 3, \"apple\"])  # Frozen set (cannot be modified)"
   ]
  },
  {
   "cell_type": "code",
   "execution_count": 20,
   "id": "c2c6b981-53a1-45ea-a554-3d945858800c",
   "metadata": {},
   "outputs": [
    {
     "name": "stdout",
     "output_type": "stream",
     "text": [
      "{1, 2, 3, 'banana', 'apple'} :  <class 'set'>\n",
      "frozenset({1, 2, 3, 'apple'}) :  <class 'frozenset'>\n"
     ]
    }
   ],
   "source": [
    "my_set = {1, 2, 3, \"apple\", \"banana\"}  # Set\n",
    "frozen = frozenset([1, 2, 3, \"apple\"]) #Frozen set (cannot be modified)\n",
    "print(my_set,\": \",type(my_set))\n",
    "print(frozen,\": \",type(frozen))"
   ]
  },
  {
   "cell_type": "markdown",
   "id": "f87b82fa-6397-4e00-9ea8-5994cbacf710",
   "metadata": {},
   "source": [
    "#### 5. Dictionary Type\n",
    "A collection of key-value pairs, where keys are unique, and values can be any data type.<br>\n",
    "\n",
    "dict (Dictionary): A mutable collection of key-value pairs.<br>\n",
    "my_dict = {\"name\": \"Aniket\", \"age\": 22, \"city\": \"Baroda\"}\n",
    "my_dict[\"age\"] = 23   # You can change values in a dictionary"
   ]
  },
  {
   "cell_type": "code",
   "execution_count": null,
   "id": "9fc6e8a8-a9f9-4459-8100-2dfb3881bca4",
   "metadata": {},
   "outputs": [],
   "source": []
  }
 ],
 "metadata": {
  "kernelspec": {
   "display_name": "Python 3 (ipykernel)",
   "language": "python",
   "name": "python3"
  },
  "language_info": {
   "codemirror_mode": {
    "name": "ipython",
    "version": 3
   },
   "file_extension": ".py",
   "mimetype": "text/x-python",
   "name": "python",
   "nbconvert_exporter": "python",
   "pygments_lexer": "ipython3",
   "version": "3.10.0"
  }
 },
 "nbformat": 4,
 "nbformat_minor": 5
}
