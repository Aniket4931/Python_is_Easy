{
 "cells": [
  {
   "cell_type": "markdown",
   "id": "ca76e160-97cd-42aa-b043-a0e52163e273",
   "metadata": {},
   "source": [
    "## 20.Python Loops\n",
    "Loops in Python are used to execute a block of code repeatedly until a certain condition is met. Python provides two main types of loops: for loops and while loops."
   ]
  },
  {
   "cell_type": "markdown",
   "id": "ce6b1362-ee7f-4e47-8f26-caadb0b66588",
   "metadata": {},
   "source": [
    "**1.For Loops in Python**\n",
    "\n",
    "For loops in Python are used to iterate over a sequence of elements, such as lists, tuples, strings, or other iterable objects. They provide a convenient way to perform actions on each element of the sequence.\n",
    "\n",
    "**Syntax:**\n",
    "\n",
    "```python\n",
    "for element in sequence:\n",
    "  # Code to be executed\n",
    "```\n",
    "\n",
    "**Explanation:**\n",
    "\n",
    "* `element`: A variable that represents the current element being iterated over.\n",
    "* `sequence`: The iterable object you want to loop through (e.g., list, tuple, string).\n",
    "\n",
    "**Example:**\n",
    "\n",
    "```python\n",
    "fruits = [\"apple\", \"banana\", \"cherry\"]\n",
    "for fruit in fruits:\n",
    "  print(fruit)\n",
    "```\n",
    "\n",
    "This code will output:\n",
    "\n",
    "```\n",
    "apple\n",
    "banana\n",
    "cherry\n",
    "```\n",
    "\n",
    "**Key points:**\n",
    "\n",
    "* The loop body (the code inside the `for` block) is executed once for each element in the sequence.\n",
    "* The value of the `element` variable changes in each iteration to represent the current element.\n",
    "* You can use any variable name for `element`.\n",
    "* You can iterate over any iterable object, not just lists.\n",
    "\n",
    "**Additional examples:**\n",
    "\n",
    "```python\n",
    "# Iterating over a range of numbers\n",
    "for i in range(5):\n",
    "  print(i)\n",
    "\n",
    "# Iterating over a string\n",
    "for char in \"hello\":\n",
    "  print(char)\n",
    "\n",
    "# Iterating over a dictionary\n",
    "my_dict = {\"name\": \"Alice\", \"age\": 30}\n",
    "for key, value in my_dict.items():\n",
    "  print(key, value)\n",
    "```\n",
    "\n",
    "For loops are a powerful tool in Python for performing repetitive tasks on sequences of elements. They are often used in combination with other control flow statements and data structures to create efficient and flexible programs.\n"
   ]
  },
  {
   "cell_type": "code",
   "execution_count": 2,
   "id": "43896be3-dab8-4450-99fa-4c30eb798cfc",
   "metadata": {},
   "outputs": [
    {
     "name": "stdout",
     "output_type": "stream",
     "text": [
      "apple\n",
      "banana\n",
      "cherry\n"
     ]
    }
   ],
   "source": [
    "fruits = [\"apple\", \"banana\", \"cherry\"]\n",
    "for fruit in fruits:\n",
    "  print(fruit)"
   ]
  },
  {
   "cell_type": "markdown",
   "id": "ae2f2d8a-ab98-4c76-bc5c-f86dc4a6756f",
   "metadata": {},
   "source": [
    "--------------------------------------------------------------------------------------------------------------------------------------"
   ]
  },
  {
   "cell_type": "markdown",
   "id": "6739e44e-41c1-497a-993b-612d126954b7",
   "metadata": {},
   "source": [
    "**2.Nested For Loops**\n",
    "\n",
    "A nested `for` loop is a `for` loop that is contained within another `for` loop. This allows you to iterate over multiple sequences and perform operations on combinations of elements from those sequences.\n",
    "\n",
    "**Syntax:**\n",
    "\n",
    "```python\n",
    "for outer_element in outer_sequence:\n",
    "  for inner_element in inner_sequence:\n",
    "    # Code to be executed\n",
    "```\n",
    "\n",
    "**Example:**\n",
    "\n",
    "```python\n",
    "for i in range(3):\n",
    "  for j in range(2):\n",
    "    print(i, j)\n",
    "```\n",
    "\n",
    "This code will output:\n",
    "\n",
    "```\n",
    "0 0\n",
    "0 1\n",
    "1 0\n",
    "1 1\n",
    "2 0\n",
    "2 1\n",
    "```\n",
    "\n",
    "In this example, the outer loop iterates from 0 to 2 (inclusive), and the inner loop iterates from 0 to 1 for each iteration of the outer loop. This results in a total of 6 iterations, printing each combination of `i` and `j`.\n",
    "\n",
    "**Common use cases for nested `for` loops:**\n",
    "\n",
    "* **Matrix operations:** Iterating over rows and columns of a matrix.\n",
    "* **Generating combinations:** Generating combinations of elements from multiple sequences.\n",
    "* **Nested data structures:** Iterating over nested lists, tuples, or dictionaries.\n",
    "\n",
    "**Nested `for` loops can be used to create complex and efficient algorithms, but it's important to use them judiciously to avoid excessive computational overhead.**\n"
   ]
  },
  {
   "cell_type": "markdown",
   "id": "2fe8a289-f3a8-4a27-b712-bdf002ebdf88",
   "metadata": {},
   "source": [
    "**3.While Loops**\n",
    "\n",
    "While loops in Python are used to execute a block of code repeatedly as long as a specified condition remains true. The condition is checked at the beginning of each iteration.\n",
    "\n",
    "**Syntax:**\n",
    "\n",
    "```python\n",
    "while condition:\n",
    "  # Code to be executed\n",
    "```\n",
    "\n",
    "**Explanation:**\n",
    "\n",
    "* `condition`: An expression that evaluates to either `True` or `False`.\n",
    "* If the condition is `True`, the code inside the loop body is executed.\n",
    "* After the code is executed, the condition is checked again.\n",
    "* If the condition is still `True`, the loop repeats.\n",
    "* If the condition becomes `False`, the loop terminates.\n",
    "\n",
    "**Example:**\n",
    "\n",
    "```python\n",
    "count = 0\n",
    "while count < 5:\n",
    "  print(count)\n",
    "  count += 1\n",
    "```\n",
    "\n",
    "This code will output:\n",
    "\n",
    "```\n",
    "0\n",
    "1\n",
    "2\n",
    "3\n",
    "4\n",
    "```\n",
    "\n",
    "**Key points:**\n",
    "\n",
    "* The condition is checked at the beginning of each iteration.\n",
    "* If the condition is initially `False`, the loop body will never be executed.\n",
    "* Be careful with `while` loops, as they can create infinite loops if the condition is always `True`. Use a `break` statement to exit the loop if necessary.\n",
    "\n",
    "**Use cases for `while` loops:**\n",
    "\n",
    "* **Iterating until a specific condition is met:** For example, iterating until a user enters a valid input.\n",
    "* **Implementing algorithms:** Some algorithms, like searching and sorting algorithms, can be implemented using `while` loops.\n",
    "* **Creating interactive programs:** `while` loops can be used to create interactive programs that continuously prompt the user for input.\n",
    "\n",
    "While loops provide a flexible way to control the flow of your Python programs based on conditions. They are often used in conjunction with other control flow statements and data structures.\n"
   ]
  },
  {
   "cell_type": "markdown",
   "id": "d76e2dd8-821b-44b9-a58a-304ba9053d1c",
   "metadata": {},
   "source": [
    "------------------------------------------------------------------------------------------------------------------------------------"
   ]
  },
  {
   "cell_type": "markdown",
   "id": "724e1695-e5b8-4901-a26b-0c53b68ef760",
   "metadata": {},
   "source": [
    "**`continue` and `break` Statements**\n",
    "\n",
    "`continue` and `break` are control flow statements used within loops to modify their behavior:\n",
    "\n",
    "**1. `continue`:**\n",
    "\n",
    "* Skips the current iteration of a loop and proceeds to the next iteration.\n",
    "* It is often used to avoid executing certain parts of the loop body for specific conditions.\n",
    "\n",
    "**Example:**\n",
    "\n",
    "```python\n",
    "for i in range(10):\n",
    "  if i % 2 == 0:\n",
    "    continue\n",
    "  print(i)\n",
    "```\n",
    "\n",
    "This code will print only the odd numbers from 0 to 9, skipping the even numbers.\n",
    "\n",
    "**2. `break`:**\n",
    "\n",
    "* Exits the loop immediately, regardless of whether the loop condition is still true.\n",
    "* It is often used to terminate a loop prematurely when a certain condition is met.\n",
    "\n",
    "**Example:**\n",
    "\n",
    "```python\n",
    "for i in range(10):\n",
    "  if i == 5:\n",
    "    break\n",
    "  print(i)\n",
    "```\n",
    "\n",
    "This code will print numbers from 0 to 4 and then exit the loop, even though the loop condition is still true.\n",
    "\n",
    "**Combining `continue` and `break`:**\n",
    "\n",
    "You can use both `continue` and `break` within the same loop to control its execution more precisely.\n",
    "\n",
    "**Example:**\n",
    "\n",
    "```python\n",
    "for i in range(10):\n",
    "  if i % 2 == 0:\n",
    "    continue\n",
    "  if i == 7:\n",
    "    break\n",
    "  print(i)\n",
    "```\n",
    "\n",
    "This code will print odd numbers from 1 to 5, skipping 6 and exiting the loop at 7.\n",
    "\n",
    "**Remember:**\n",
    "\n",
    "* `continue` skips the current iteration and proceeds to the next one.\n",
    "* `break` exits the loop entirely.\n",
    "\n",
    "By using `continue` and `break` effectively, you can control the flow of your loops and make your code more efficient and readable.\n"
   ]
  },
  {
   "cell_type": "markdown",
   "id": "c34a4c80-c1e5-4610-8d66-23deebfbd00e",
   "metadata": {},
   "source": [
    "---------------------------------------------------------------------------------------------------------------------------------------"
   ]
  },
  {
   "cell_type": "markdown",
   "id": "7579dbfa-2706-42f0-94e7-cfa5076a6a5d",
   "metadata": {},
   "source": [
    "**Range** in Python is a built-in function that generates a sequence of numbers. It's commonly used with `for` loops to iterate over a specific range of values.\n",
    "\n",
    "**Syntax:**\n",
    "\n",
    "```python\n",
    "range(start=0, stop, step=1)\n",
    "```\n",
    "\n",
    "**Parameters:**\n",
    "\n",
    "* **`start`:** The starting value of the sequence (default is 0).\n",
    "* **`stop`:** The stopping value of the sequence (exclusive).\n",
    "* **`step`:** The step size between values (default is 1).\n",
    "\n",
    "**Examples:**\n",
    "\n",
    "```python\n",
    "# Generate numbers from 0 to 4 (inclusive)\n",
    "for i in range(5):\n",
    "    print(i)\n",
    "\n",
    "# Output:\n",
    "# 0\n",
    "# 1\n",
    "# 2\n",
    "# 3\n",
    "# 4\n",
    "\n",
    "# Generate numbers from 2 to 10 (inclusive), with a step of 2\n",
    "for i in range(2, 11, 2):\n",
    "    print(i)\n",
    "\n",
    "# Output:\n",
    "# 2\n",
    "# 4\n",
    "# 6\n",
    "# 8\n",
    "# 10\n",
    "\n",
    "# Generate a sequence of numbers in descending order\n",
    "for i in range(10, 0, -1):\n",
    "    print(i)\n",
    "\n",
    "# Output:\n",
    "# 10\n",
    "# 9\n",
    "# 8\n",
    "# 7\n",
    "# 6\n",
    "# 5\n",
    "# 4\n",
    "# 3\n",
    "# 2\n",
    "# 1\n",
    "```\n",
    "\n",
    "**Key points:**\n",
    "\n",
    "* The `stop` parameter is exclusive, meaning the range will go up to but not include the `stop` value.\n",
    "* The `step` parameter can be positive, negative, or zero. A negative step will generate a sequence in descending order.\n",
    "* If you only provide one argument to `range()`, it is interpreted as the `stop` value, and the `start` value defaults to 0.\n",
    "* You can use `range()` with `for` loops to iterate over a specific number of times or to access elements in a sequence by index.\n"
   ]
  },
  {
   "cell_type": "code",
   "execution_count": null,
   "id": "45e0da61-99cb-4a53-bd42-2ddc602c26dd",
   "metadata": {},
   "outputs": [],
   "source": []
  },
  {
   "cell_type": "markdown",
   "id": "e8f5ff9a-f971-491e-9b35-e82752bf6cd3",
   "metadata": {},
   "source": [
    "### Questions"
   ]
  },
  {
   "cell_type": "markdown",
   "id": "c6e7a512-92a6-4b06-ae36-bf3e0de08b0f",
   "metadata": {},
   "source": [
    "**1.Write a for loop to print numbers from 1 to 10.**"
   ]
  },
  {
   "cell_type": "code",
   "execution_count": 6,
   "id": "3e5a7fdd-c9fc-47c0-ae78-84dcb081ddff",
   "metadata": {},
   "outputs": [
    {
     "name": "stdout",
     "output_type": "stream",
     "text": [
      "1 2 3 4 5 6 7 8 9 10 "
     ]
    }
   ],
   "source": [
    "for i in range(1,11):\n",
    "    print(i,end=\" \")"
   ]
  },
  {
   "cell_type": "markdown",
   "id": "97fa005c-9227-49a7-a992-6f617edfd5a2",
   "metadata": {},
   "source": [
    "**2.Iterate over a list of fruits and print each fruit.**"
   ]
  },
  {
   "cell_type": "code",
   "execution_count": 7,
   "id": "8c6b19ee-41ae-469b-8d2e-a72dcbd0faab",
   "metadata": {},
   "outputs": [
    {
     "name": "stdout",
     "output_type": "stream",
     "text": [
      "apple\n",
      "banana\n",
      "cherry\n"
     ]
    }
   ],
   "source": [
    "fruits = [\"apple\", \"banana\", \"cherry\"]\n",
    "for fruit in fruits:\n",
    "    print(fruit)"
   ]
  },
  {
   "cell_type": "markdown",
   "id": "f19f3f18-a101-458c-ac3e-459315e99799",
   "metadata": {},
   "source": [
    "**3.Use a break statement to exit a loop prematurely.**"
   ]
  },
  {
   "cell_type": "code",
   "execution_count": 8,
   "id": "e36294a6-9918-4d01-9858-2782172da439",
   "metadata": {},
   "outputs": [
    {
     "name": "stdout",
     "output_type": "stream",
     "text": [
      "1 2 3 4 "
     ]
    }
   ],
   "source": [
    "for i in range(1,11):\n",
    "    if i==5:\n",
    "        break\n",
    "    print(i,end=\" \")"
   ]
  },
  {
   "cell_type": "markdown",
   "id": "8eeef52d-353d-4b1c-9811-95b076071d71",
   "metadata": {},
   "source": [
    "**4.Use a continue statement to skip the current iteration of a loop.**"
   ]
  },
  {
   "cell_type": "code",
   "execution_count": 9,
   "id": "2f5d055a-098a-4aaa-87d8-c3c619cef40e",
   "metadata": {},
   "outputs": [
    {
     "name": "stdout",
     "output_type": "stream",
     "text": [
      "1 2 3 4 6 7 8 9 10 "
     ]
    }
   ],
   "source": [
    "for i in range(1,11):\n",
    "    if i==5:\n",
    "        continue\n",
    "    print(i,end=\" \")"
   ]
  },
  {
   "cell_type": "markdown",
   "id": "15e5f15a-fbb1-4a94-a044-757463d68aaa",
   "metadata": {},
   "source": [
    "**5.Explain the difference between for loops and while loops.**<br>\n",
    "**Answer:**\n",
    "\n",
    "* **For loops** are used to iterate over a sequence of elements (e.g., lists, tuples).\n",
    "* **While loops** are used to repeat a block of code as long as a condition is true.\n",
    "\n",
    "Choose the appropriate loop based on your specific needs.\n"
   ]
  },
  {
   "cell_type": "markdown",
   "id": "77b6a099-0cd7-4848-919e-c6492d1164b0",
   "metadata": {},
   "source": [
    "**6.Using enumerate() to get both index and value:**\n",
    "\n"
   ]
  },
  {
   "cell_type": "markdown",
   "id": "d5f1b039-d359-4e38-8cef-58fb9f3e9391",
   "metadata": {},
   "source": [
    "The enumerate() function in Python returns an iterator that produces tuples containing the index and value of each item in a sequence. This is often useful when you need to know both the index and value while iterating over a list."
   ]
  },
  {
   "cell_type": "code",
   "execution_count": 11,
   "id": "aa2da84f-1835-4e40-8287-094bf35031f7",
   "metadata": {},
   "outputs": [
    {
     "name": "stdout",
     "output_type": "stream",
     "text": [
      "1 apple\n",
      "2 banana\n",
      "3 cherry\n"
     ]
    }
   ],
   "source": [
    "fruits = [\"apple\", \"banana\", \"cherry\"]\n",
    "\n",
    "for index, fruit in enumerate(fruits):\n",
    "    print(index+1, fruit)"
   ]
  },
  {
   "cell_type": "markdown",
   "id": "e4d99d72-1784-4093-ac46-7a7c39dddd99",
   "metadata": {},
   "source": [
    "**7.Sum of Elements: Write a for loop to calculate the sum of all numbers in the list numbers = [10, 20, 30, 40, 50].**"
   ]
  },
  {
   "cell_type": "code",
   "execution_count": 14,
   "id": "91f415b9-1601-485b-8a4d-ebc1c8bafe0a",
   "metadata": {},
   "outputs": [
    {
     "name": "stdout",
     "output_type": "stream",
     "text": [
      "Sum:  150\n"
     ]
    }
   ],
   "source": [
    "numbers = [10, 20, 30, 40, 50]\n",
    "result=0\n",
    "for i in numbers:\n",
    "    result+=i\n",
    "print(\"Sum: \",result)"
   ]
  },
  {
   "cell_type": "markdown",
   "id": "88a97aa2-eab4-430f-9977-87090907fefd",
   "metadata": {},
   "source": [
    "**8.Print Even Numbers: Write a for loop that prints all the even numbers between 1 and 20.**"
   ]
  },
  {
   "cell_type": "code",
   "execution_count": 17,
   "id": "56f836ef-4fad-4c48-b05a-1d483a05d903",
   "metadata": {},
   "outputs": [
    {
     "name": "stdout",
     "output_type": "stream",
     "text": [
      "2 4 6 8 10 12 14 16 18 20 "
     ]
    }
   ],
   "source": [
    "for i in range(1,21):\n",
    "    if i%2==0:\n",
    "        print(i,end=\" \")"
   ]
  },
  {
   "cell_type": "markdown",
   "id": "2fc7f08b-2606-48ae-8918-752199cf3f8d",
   "metadata": {},
   "source": [
    "**Patterns:**"
   ]
  },
  {
   "cell_type": "markdown",
   "id": "de7cae24-7bf1-4f71-81ba-88a254e3fd26",
   "metadata": {},
   "source": [
    "**1. Right-Angled Triangle**"
   ]
  },
  {
   "cell_type": "code",
   "execution_count": 21,
   "id": "c8dc5f84-a184-4466-a553-c3b2a68cc039",
   "metadata": {},
   "outputs": [
    {
     "name": "stdout",
     "output_type": "stream",
     "text": [
      "* \n",
      "* * \n",
      "* * * \n",
      "* * * * \n",
      "* * * * * \n"
     ]
    }
   ],
   "source": [
    "rows=5\n",
    "for i in range(1,rows+1):\n",
    "    print('* '*i)"
   ]
  },
  {
   "cell_type": "markdown",
   "id": "f5863cb3-adb8-4065-b6d4-e22426c16a2a",
   "metadata": {},
   "source": [
    "**2. Inverted Right-Angled Triangle (Stars)**"
   ]
  },
  {
   "cell_type": "code",
   "execution_count": 25,
   "id": "c5db58a3-e7f8-4039-a72b-916c66a666eb",
   "metadata": {},
   "outputs": [
    {
     "name": "stdout",
     "output_type": "stream",
     "text": [
      "* * * * * \n",
      "* * * * \n",
      "* * * \n",
      "* * \n",
      "* \n"
     ]
    }
   ],
   "source": [
    "rows=5\n",
    "for i in range(rows,0,-1):\n",
    "    print('* '*i)"
   ]
  },
  {
   "cell_type": "markdown",
   "id": "5290c1c5-9f9a-4e0e-b91a-67afb77ec43c",
   "metadata": {},
   "source": [
    "**3. Pyramid Pattern (Stars)**\""
   ]
  },
  {
   "cell_type": "code",
   "execution_count": 30,
   "id": "77ee5522-e498-43ba-8bec-ade2d2a3fbf7",
   "metadata": {},
   "outputs": [
    {
     "name": "stdout",
     "output_type": "stream",
     "text": [
      "    *\n",
      "   ***\n",
      "  *****\n",
      " *******\n",
      "*********\n"
     ]
    }
   ],
   "source": [
    "rows=5\n",
    "for i in range(1,rows+1):\n",
    "    print(' '*(rows-i)+'*'*(2*i-1))"
   ]
  },
  {
   "cell_type": "markdown",
   "id": "d275c0fa-f909-47ee-b691-39d2b6382ffa",
   "metadata": {},
   "source": [
    "**4. Inverted Pyramid Pattern (Stars)**"
   ]
  },
  {
   "cell_type": "code",
   "execution_count": 43,
   "id": "70ec5b75-5c24-4a9e-ba64-c033e72796df",
   "metadata": {},
   "outputs": [
    {
     "name": "stdout",
     "output_type": "stream",
     "text": [
      "*********\n",
      " *******\n",
      "  *****\n",
      "   ***\n",
      "    *\n"
     ]
    }
   ],
   "source": [
    "rows=5\n",
    "for i in range(rows,0,-1):\n",
    "    print(' '*(rows-i)+'*'*(2*i-1))"
   ]
  },
  {
   "cell_type": "markdown",
   "id": "d73f6963-3a30-4c47-8c92-0281f7cc4708",
   "metadata": {},
   "source": [
    "**5. Right-Angled Triangle (Numbers)**"
   ]
  },
  {
   "cell_type": "code",
   "execution_count": 40,
   "id": "f4564bf2-a8cc-47f1-8b46-e22b78af2b32",
   "metadata": {},
   "outputs": [
    {
     "name": "stdout",
     "output_type": "stream",
     "text": [
      "1 \n",
      "1 2 \n",
      "1 2 3 \n",
      "1 2 3 4 \n",
      "1 2 3 4 5 \n"
     ]
    }
   ],
   "source": [
    "rows=5\n",
    "for i in range(1,rows+1):\n",
    "    for j in range(1,i+1):\n",
    "        print(j,end=\" \")\n",
    "    print()"
   ]
  },
  {
   "cell_type": "markdown",
   "id": "577bf052-5102-406a-9b8d-3e763311c0ce",
   "metadata": {},
   "source": [
    "**6. Inverted Right-Angled Triangle (Numbers)**"
   ]
  },
  {
   "cell_type": "code",
   "execution_count": 35,
   "id": "11af45ad-d398-439c-8c48-527aa834a7e1",
   "metadata": {},
   "outputs": [
    {
     "name": "stdout",
     "output_type": "stream",
     "text": [
      "1 2 3 4 5 \n",
      "1 2 3 4 \n",
      "1 2 3 \n",
      "1 2 \n",
      "1 \n"
     ]
    }
   ],
   "source": [
    "rows=5\n",
    "for i in range(rows,0,-1):\n",
    "    for j in range (1,i+1):\n",
    "        print(j,end=\" \")\n",
    "    print()"
   ]
  },
  {
   "cell_type": "markdown",
   "id": "6718bd73-a781-495c-98f2-d976eb9536ce",
   "metadata": {},
   "source": [
    "**7. Inverted Left-Angled Triangle (Stars)**"
   ]
  },
  {
   "cell_type": "code",
   "execution_count": 44,
   "id": "36d295ca-1cda-494c-b6cd-aacb3f8bd8a7",
   "metadata": {},
   "outputs": [
    {
     "name": "stdout",
     "output_type": "stream",
     "text": [
      "*********\n",
      "  *******\n",
      "    *****\n",
      "      ***\n",
      "        *\n"
     ]
    }
   ],
   "source": [
    "rows=5\n",
    "for i in range(rows,0,-1):\n",
    "    print('  '*(rows-i)+'*'*(2*i-1))"
   ]
  },
  {
   "cell_type": "code",
   "execution_count": 1,
   "id": "f5320a0a-0102-415f-8ad8-105c9fbf924a",
   "metadata": {},
   "outputs": [
    {
     "name": "stdout",
     "output_type": "stream",
     "text": [
      "*****\n",
      "****\n",
      "***\n",
      "**\n",
      "*\n"
     ]
    }
   ],
   "source": [
    "rows = 5\n",
    "i = rows\n",
    "\n",
    "while i > 0:\n",
    "    print('*' * i)\n",
    "    i -= 1  # Decrease the value of i by 1 in each iteration\n"
   ]
  },
  {
   "cell_type": "markdown",
   "id": "9b67cbec-4c56-4c65-b4f5-cc11c89c0056",
   "metadata": {},
   "source": [
    "## 21.**Functions in Python**\n",
    "\n",
    "Functions are blocks of reusable code that perform specific tasks. They help organize your code, make it more modular, and improve readability.\n",
    "\n",
    "**Defining a Function:**\n",
    "\n",
    "To define a function in Python, use the `def` keyword followed by the function name, parentheses for parameters, and a colon. The function body is indented.\n",
    "\n",
    "```python\n",
    "def function_name(parameter1, parameter2, ...):\n",
    "  \"\"\"Function documentation\"\"\"\n",
    "  # Function body\n",
    "  return value  # Optional return statement\n",
    "```\n",
    "\n",
    "**Parameters and Arguments:**\n",
    "\n",
    "* **Parameters:** Variables defined within the parentheses of a function.\n",
    "* **Arguments:** Values passed to a function when it's called.\n",
    "\n",
    "**Example:**\n",
    "\n",
    "```python\n",
    "def greet(name):\n",
    "  \"\"\"Greets a person by name.\"\"\"\n",
    "  print(\"Hello, \" + name + \"!\")\n",
    "\n",
    "greet(\"Alice\")  # Output: Hello, Alice!\n",
    "```\n",
    "\n",
    "**Return Values:**\n",
    "\n",
    "* Functions can optionally return values using the `return` statement.\n",
    "* If a function doesn't have a `return` statement, it implicitly returns `None`.\n",
    "\n",
    "**Example:**\n",
    "\n",
    "```python\n",
    "def add(x, y):\n",
    "  return x + y\n",
    "\n",
    "result = add(3, 4)\n",
    "print(result)  # Output: 7\n",
    "```\n",
    "\n",
    "**Default Arguments:**\n",
    "\n",
    "You can specify default values for parameters:\n",
    "\n",
    "```python\n",
    "def greet(name, greeting=\"Hello\"):\n",
    "  print(greeting + \", \" + name + \"!\")\n",
    "\n",
    "greet(\"Alice\")  # Output: Hello, Alice!\n",
    "greet(\"Bob\", \"Hi\")  # Output: Hi, Bob!\n",
    "```\n",
    "\n",
    "**Keyword Arguments:**\n",
    "\n",
    "You can pass arguments by keyword, specifying the parameter name:\n",
    "\n",
    "```python\n",
    "def greet(name, greeting=\"Hello\"):\n",
    "  print(greeting + \", \" + name + \"!\")\n",
    "\n",
    "greet(greeting=\"Hi\", name=\"Alice\")  # Output: Hi, Alice!\n",
    "```\n",
    "\n",
    "**Variable-Length Arguments:**\n",
    "\n",
    "You can use `*args` to pass a variable number of positional arguments and `**kwargs` to pass a variable number of keyword arguments.\n",
    "\n",
    "**Example:**\n",
    "\n",
    "```python\n",
    "def greet(*names):\n",
    "  for name in names:\n",
    "    print(\"Hello, \" + name + \"!\")\n",
    "\n",
    "greet(\"Alice\", \"Bob\", \"Charlie\")\n",
    "```\n",
    "\n",
    "Functions are a fundamental building block in Python, allowing you to organize your code, reuse logic, and improve modularity.\n"
   ]
  },
  {
   "cell_type": "code",
   "execution_count": 3,
   "id": "64737279-6d02-4e20-9982-9e33d14f4967",
   "metadata": {},
   "outputs": [
    {
     "name": "stdout",
     "output_type": "stream",
     "text": [
      "Hello, Alice!\n",
      "Hello, Bob!\n",
      "Hello, Charlie!\n"
     ]
    }
   ],
   "source": [
    "def greet(*names):\n",
    "  for name in names:\n",
    "    print(\"Hello, \" + name + \"!\")\n",
    "\n",
    "greet(\"Alice\", \"Bob\", \"Charlie\")"
   ]
  },
  {
   "cell_type": "markdown",
   "id": "11648f50-abbc-4e60-879d-9f3b28761b27",
   "metadata": {},
   "source": [
    "**Python Built-in Functions**\n",
    "\n",
    "Python provides a rich set of built-in functions that can be used in your programs without requiring any imports. These functions cover a wide range of tasks, from mathematical operations to working with data structures.\n",
    "\n",
    "Here are some of the most commonly used built-in functions:\n",
    "\n",
    "**1. Mathematical Functions:**\n",
    "\n",
    "* `abs(x)`: Returns the absolute value of x.\n",
    "* `max(iterable, *args)`: Returns the largest item in an iterable or a sequence of arguments.\n",
    "* `min(iterable, *args)`: Returns the smallest item in an iterable or a sequence of arguments.\n",
    "* `sum(iterable, start=0)`: Returns the sum of elements in an iterable.\n",
    "* `round(number, ndigits=None)`: Rounds a number to the specified number of decimal places.\n",
    "* `pow(base, exp)`: Raises the base to the power of exp.\n",
    "* `len(object)`: Returns the length of an object (e.g., string, list, tuple).\n",
    "\n",
    "**2. Data Structure Functions:**\n",
    "\n",
    "* `list(iterable)`: Creates a new list from an iterable.\n",
    "* `tuple(iterable)`: Creates a new tuple from an iterable.\n",
    "* `set(iterable)`: Creates a new set from an iterable.\n",
    "* `dict(iterable)`: Creates a new dictionary from an iterable of key-value pairs.\n",
    "* `sorted(iterable, key=None, reverse=False)`: Returns a new sorted list from an iterable.\n",
    "* `reversed(iterable)`: Returns a reversed iterator of an iterable.\n",
    "\n",
    "**3. Input/Output Functions:**\n",
    "\n",
    "* `input(prompt=\"\")`: Prompts the user for input and returns a string.\n",
    "* `print(*objects, sep=' ', end='\\n', file=sys.stdout, flush=False)`: Prints objects to the console.\n",
    "\n",
    "**4. Other Functions:**\n",
    "\n",
    "* `isinstance(object, classinfo)`: Checks if an object is an instance of a class.\n",
    "* `issubclass(class, classinfo)`: Checks if a class is a subclass of another class.\n",
    "* `id(object)`: Returns the unique identifier of an object.\n",
    "* `type(object)`: Returns the type of an object.\n",
    "* `dir(object)`: Returns a list of valid attributes of an object.\n",
    "\n",
    "**Example:**\n",
    "\n",
    "```python\n",
    "x = 10\n",
    "y = 5\n",
    "\n",
    "print(abs(x))  # Output: 10\n",
    "print(max(x, y))  # Output: 10\n",
    "print(sum([1, 2, 3]))  # Output: 6\n",
    "print(round(3.14159, 2))  # Output: 3.14\n",
    "print(pow(2, 3))  # Output: 8\n",
    "print(len(\"hello\"))  # Output: 5\n",
    "\n",
    "my_list = [1, 2, 3]\n",
    "my_tuple = tuple(my_list)\n",
    "my_set = set(my_list)\n",
    "my_dict = dict(zip([\"a\", \"b\", \"c\"], [1, 2, 3]))\n",
    "\n",
    "print(my_tuple)  # Output: (1, 2, 3)\n",
    "print(my_set)  # Output: {1, 2, 3}\n",
    "print(my_dict)  # Output: {'a': 1, 'b': 2, 'c': 3}\n",
    "```\n",
    "\n"
   ]
  },
  {
   "cell_type": "markdown",
   "id": "645e7747-5544-420f-b8eb-290a612e86c6",
   "metadata": {},
   "source": [
    "## 22.**Lambda Functions in Python**\n",
    "\n",
    "Lambda functions, also known as anonymous functions, are a concise way to define small, one-line functions in Python. They are often used as arguments to other functions or when you need a simple function that won't be used elsewhere in your code.\n",
    "\n",
    "**Syntax:**\n",
    "\n",
    "```python\n",
    "lambda arguments: expression\n",
    "```\n",
    "\n",
    "* **`arguments`:** A comma-separated list of arguments.\n",
    "* **`expression`:** The expression to be evaluated and returned.\n",
    "\n",
    "**Example:**\n",
    "\n",
    "```python\n",
    "add = lambda x, y: x + y\n",
    "result = add(3, 4)\n",
    "print(result)  # Output: 7\n",
    "```\n",
    "\n",
    "In this example, `add` is a lambda function that takes two arguments `x` and `y` and returns their sum. It's equivalent to:\n",
    "\n",
    "```python\n",
    "def add(x, y):\n",
    "  return x + y\n",
    "```\n",
    "\n",
    "**Common uses of lambda functions:**\n",
    "\n",
    "* **As arguments to higher-order functions:** Lambda functions are often used as arguments to functions that take other functions as input, such as `map`, `filter`, and `reduce`.\n",
    "* **Creating simple functions:** If you need a small function that will only be used once, a lambda function can be a concise and readable way to define it.\n",
    "\n",
    "**Example with `map`:**\n",
    "\n",
    "```python\n",
    "numbers = [1, 2, 3, 4, 5]\n",
    "squared_numbers = list(map(lambda x: x**2, numbers))\n",
    "print(squared_numbers)  # Output: [1, 4, 9, 16, 25]\n",
    "```\n",
    "\n",
    "**Example with `filter`:**\n",
    "\n",
    "```python\n",
    "numbers = [1, 2, 3, 4, 5]\n",
    "even_numbers = list(filter(lambda x: x % 2 == 0, numbers))\n",
    "print(even_numbers)  # Output: [2, 4]\n",
    "```\n",
    "\n",
    "**Key points:**\n",
    "\n",
    "* Lambda functions are anonymous functions defined using the `lambda` keyword.\n",
    "* They are often used for simple, one-line expressions.\n",
    "* They can be used as arguments to other functions.\n",
    "* They are a concise and readable way to define functions.\n"
   ]
  },
  {
   "cell_type": "markdown",
   "id": "7e8031c1-ba5e-44a3-9f5b-68b59b4a973d",
   "metadata": {},
   "source": [
    "## 23.**map() and filter() functions**\n",
    "\n",
    "`map()` and `filter()` are two built-in functions in Python that are commonly used for functional programming. They allow you to apply functions to elements of a sequence and create new sequences based on the results.\n",
    "\n",
    "**1. `map()` function:**\n",
    "\n",
    "* Applies a function to each element of a sequence and returns a new sequence containing the results.\n",
    "* Takes two arguments: a function and an iterable.\n",
    "\n",
    "**Example:**\n",
    "\n",
    "```python\n",
    "numbers = [1, 2, 3, 4, 5]\n",
    "squared_numbers = list(map(lambda x: x**2, numbers))\n",
    "print(squared_numbers)  # Output: [1, 4, 9, 16, 25]\n",
    "```\n",
    "\n",
    "In this example, the `map()` function applies the lambda function `lambda x: x**2` to each element of the `numbers` list and returns a new list containing the squared values.\n",
    "\n",
    "**2. `filter()` function:**\n",
    "\n",
    "* Filters elements from a sequence based on a given function.\n",
    "* Takes two arguments: a function and an iterable.\n",
    "* Returns a new sequence containing only the elements that satisfy the condition defined by the function.\n",
    "\n",
    "**Example:**\n",
    "\n",
    "```python\n",
    "numbers = [1, 2, 3, 4, 5]\n",
    "even_numbers = list(filter(lambda x: x % 2 == 0, numbers))\n",
    "print(even_numbers)  # Output: [2, 4]\n",
    "```\n",
    "\n",
    "In this example, the `filter()` function applies the lambda function `lambda x: x % 2 == 0` to each element of the `numbers` list and returns a new list containing only the even numbers.\n",
    "\n",
    "**Key points:**\n",
    "\n",
    "* Both `map()` and `filter()` return new sequences, leaving the original sequence unchanged.\n",
    "* You can use any function as an argument to `map()` or `filter()`, including user-defined functions.\n",
    "* The `map()` function applies the function to every element in the sequence, while the `filter()` function selects only the elements that satisfy the condition.\n",
    "* You can often achieve the same results using list comprehensions, which can sometimes be more readable.\n",
    "\n"
   ]
  },
  {
   "cell_type": "markdown",
   "id": "335588f4-ba07-4ac3-9cf8-bed2d516130c",
   "metadata": {},
   "source": [
    "## 24.**File Handling in Python**\n",
    "\n",
    "File handling in Python refers to the ability to read, write, and manipulate files on your computer's file system. Python provides various built-in functions and modules for working with files.\n",
    "\n",
    "**1. Opening a File:**\n",
    "\n",
    "To open a file, use the `open()` function, which takes two arguments:\n",
    "\n",
    "* **Filename:** The name of the file to be opened.\n",
    "* **Mode:** The mode in which the file is opened. Common modes include:\n",
    "    * `'r'`: Read mode (default)\n",
    "    * `'w'`: Write mode (creates a new file or overwrites an existing one)\n",
    "    * `'a'`: Append mode (appends to the end of an existing file)\n",
    "    * `'x'`: Exclusive creation mode (raises an error if the file already exists)\n",
    "\n",
    "**Example:**\n",
    "\n",
    "```python\n",
    "file = open(\"myfile.txt\", \"r\")\n",
    "```\n",
    "\n",
    "**2. Reading from a File:**\n",
    "\n",
    "* **`read()`:** Reads the entire contents of the file as a string.\n",
    "* **`readline()`:** Reads a single line from the file.\n",
    "* **`readlines()`:** Reads all lines from the file and returns a list of strings.\n",
    "\n",
    "**Example:**\n",
    "\n",
    "```python\n",
    "file = open(\"myfile.txt\", \"r\")\n",
    "content = file.read()\n",
    "print(content)\n",
    "\n",
    "lines = file.readlines()\n",
    "for line in lines:\n",
    "    print(line)\n",
    "```\n",
    "\n",
    "**3. Writing to a File:**\n",
    "\n",
    "* **`write(content)`:** Writes the specified content to the file.\n",
    "* **`writelines(lines)`:** Writes a list of lines to the file.\n",
    "\n",
    "**Example:**\n",
    "\n",
    "```python\n",
    "file = open(\"myfile.txt\", \"w\")\n",
    "file.write(\"Hello, world!\")\n",
    "file.close()\n",
    "\n",
    "lines = [\"This is line 1.\", \"This is line 2.\"]\n",
    "file = open(\"myfile.txt\", \"w\")\n",
    "file.writelines(lines)\n",
    "file.close()\n",
    "```\n",
    "\n",
    "**4. Closing a File:**\n",
    "\n",
    "Always close the file after you're done using it to release system resources. Use the `close()` method.\n",
    "\n",
    "**Example:**\n",
    "\n",
    "```python\n",
    "file = open(\"myfile.txt\", \"r\")\n",
    "# ... do something with the file\n",
    "file.close()\n",
    "```\n",
    "\n",
    "**5. Context Managers (Recommended):**\n",
    "\n",
    "Python's `with` statement provides a convenient way to manage file resources and ensure they are closed automatically, even if an exception occurs.\n",
    "\n",
    "**Example:**\n",
    "\n",
    "```python\n",
    "with open(\"myfile.txt\", \"r\") as file:\n",
    "    content = file.read()\n",
    "    print(content)\n",
    "```\n",
    "\n",
    "**Additional Considerations:**\n",
    "\n",
    "* **Error Handling:** Use `try-except` blocks to handle potential file errors like `FileNotFoundError` or `IOError`.\n",
    "* **File Modes:** Explore other file modes like `'rb'` for reading binary files, `'wb'` for writing binary files, and `'ab'` for appending to binary files.\n",
    "* **File Objects:** The `open()` function returns a file object that has additional attributes and methods for working with files.\n",
    "\n"
   ]
  },
  {
   "cell_type": "code",
   "execution_count": 1,
   "id": "abc72cfb-18fc-43a2-9c44-4c8754352f63",
   "metadata": {},
   "outputs": [],
   "source": [
    "# Reading from a file\n",
    "with open(\"newfile.txt\", \"r\") as file:\n",
    "    content = file.read()\n",
    "    print(content)\n",
    "\n",
    "# Writing to a file\n",
    "with open(\"newfile.txt\", \"w\") as file:\n",
    "    file.write(\"Hello, world!\")\n",
    "\n",
    "# Appending to a file\n",
    "with open(\"myfile.txt\", \"a\") as file:\n",
    "    file.write(\"\\nThis is a new line.\")\n",
    "\n",
    "# Reading line by line\n",
    "with open(\"myfile.txt\", \"r\") as file:\n",
    "    for line in file:\n",
    "        print(line)"
   ]
  },
  {
   "cell_type": "markdown",
   "id": "e17711aa-176c-4650-bffb-b042159fdded",
   "metadata": {},
   "source": [
    "\n",
    "**File Modes in Python**\n",
    "\n",
    "When opening a file in Python, you specify the mode in which the file should be opened. The mode determines how the file can be accessed and modified. Here's a detailed breakdown of the available modes:\n",
    "\n",
    "**1. Read Mode (`'r'`)**\n",
    "\n",
    "* **Description:** Opens the file for reading. The file pointer exists at the beginning of the file.\n",
    "* **Usage:**\n",
    "    ```python\n",
    "    with open(\"myfile.txt\", \"r\") as file:\n",
    "        content = file.read()\n",
    "        print(content)\n",
    "    ```\n",
    "\n",
    "**2. Binary Read Mode (`'rb'`)**\n",
    "\n",
    "* **Description:** Opens the file for reading in binary mode. The file pointer exists at the beginning of the file.\n",
    "* **Usage:**\n",
    "    ```python\n",
    "    with open(\"image.jpg\", \"rb\") as file:\n",
    "        data = file.read()\n",
    "    ```\n",
    "\n",
    "**3. Read and Write Mode (`'r+'`)**\n",
    "\n",
    "* **Description:** Opens the file for reading and writing. The file pointer exists at the beginning of the file.\n",
    "* **Usage:**\n",
    "    ```python\n",
    "    with open(\"myfile.txt\", \"r+\") as file:\n",
    "        content = file.read()\n",
    "        print(content)\n",
    "        file.seek(0)  # Move the file pointer back to the beginning\n",
    "        file.write(\"New content\")\n",
    "    ```\n",
    "\n",
    "**4. Binary Read and Write Mode (`'rb+'`)**\n",
    "\n",
    "* **Description:** Opens the file for reading and writing in binary mode. The file pointer exists at the beginning of the file.\n",
    "* **Usage:**\n",
    "    ```python\n",
    "    with open(\"image.jpg\", \"rb+\") as file:\n",
    "        data = file.read()\n",
    "        # Modify the data\n",
    "        file.seek(0)\n",
    "        file.write(modified_data)\n",
    "    ```\n",
    "\n",
    "**5. Write Mode (`'w'`)**\n",
    "\n",
    "* **Description:** Opens the file for writing. Creates a new file or overwrites an existing file. The file pointer exists at the beginning of the file.\n",
    "* **Usage:**\n",
    "    ```python\n",
    "    with open(\"myfile.txt\", \"w\") as file:\n",
    "        file.write(\"Hello, world!\")\n",
    "    ```\n",
    "\n",
    "**6. Binary Write Mode (`'wb'`)**\n",
    "\n",
    "* **Description:** Opens the file for writing in binary mode. Creates a new file or overwrites an existing file. The file pointer exists at the beginning of the file.\n",
    "* **Usage:**\n",
    "    ```python\n",
    "    with open(\"image.jpg\", \"wb\") as file:\n",
    "        file.write(image_data)\n",
    "    ```\n",
    "\n",
    "**7. Append Mode (`'a'`)**\n",
    "\n",
    "* **Description:** Opens the file for appending. The file pointer exists at the end of the file. Creates a new file if it doesn't exist.\n",
    "* **Usage:**\n",
    "    ```python\n",
    "    with open(\"myfile.txt\", \"a\") as file:\n",
    "        file.write(\"\\nThis is a new line.\")\n",
    "    ```\n",
    "\n",
    "**8. Binary Append Mode (`'ab'`)**\n",
    "\n",
    "* **Description:** Opens the file for appending in binary mode. The file pointer exists at the end of the file. Creates a new file in binary mode if it doesn't exist.\n",
    "* **Usage:**\n",
    "    ```python\n",
    "    with open(\"image.jpg\", \"ab\") as file:\n",
    "        file.write(more_data)\n",
    "    ```\n",
    "\n",
    "**9. Exclusive Creation Mode (`'x'`)**\n",
    "\n",
    "* **Description:** Creates a new file exclusively. Raises an error if the file already exists.\n",
    "* **Usage:**\n",
    "    ```python\n",
    "    with open(\"newfile.txt\", \"x\") as file:\n",
    "        file.write(\"This is a new file.\")\n",
    "    ```\n",
    "\n"
   ]
  },
  {
   "cell_type": "markdown",
   "id": "4bc4272a-cf8e-4e1f-abc2-a275dac5ac81",
   "metadata": {},
   "source": [
    "## 25**Exceptions in Python**\n",
    "\n",
    "Exceptions are errors that occur during the execution of a Python program. When an exception occurs, the normal flow of the program is interrupted, and Python attempts to handle the exception. If the exception is not handled, the program terminates with an error message.\n",
    "\n",
    "**Common Built-in Exceptions:**\n",
    "\n",
    "* **`ZeroDivisionError`:** Raised when you try to divide a number by zero.\n",
    "* **`TypeError`:** Raised when an operation is performed on an object of an inappropriate type.\n",
    "* **`NameError`:** Raised when a variable or function is not found.\n",
    "* **`IndexError`:** Raised when an index is out of range for a list or tuple.\n",
    "* **`KeyError`:** Raised when a key is not found in a dictionary.\n",
    "* **`ValueError`:** Raised when a function receives an argument of an inappropriate type or value.\n",
    "* **`IOError`:** Raised when an input/output operation fails.\n",
    "\n",
    "**Handling Exceptions:**\n",
    "\n",
    "To handle exceptions in Python, you use a `try-except` block. The `try` block contains the code that might raise an exception. The `except` block specifies the type of exception to handle and the code to be executed if the exception occurs.\n",
    "\n",
    "**Example:**\n",
    "\n",
    "```python\n",
    "try:\n",
    "  number = int(input(\"Enter a number: \"))\n",
    "  result = 10 / number\n",
    "  print(result)\n",
    "except ZeroDivisionError:\n",
    "  print(\"Cannot divide by zero.\")\n",
    "except ValueError:\n",
    "  print(\"Please enter a valid number.\")\n",
    "```\n",
    "\n",
    "**Multiple `except` blocks:**\n",
    "\n",
    "You can specify multiple `except` blocks to handle different types of exceptions:\n",
    "\n",
    "```python\n",
    "try:\n",
    "  # Code that might raise exceptions\n",
    "except ZeroDivisionError:\n",
    "  print(\"Cannot divide by zero.\")\n",
    "except ValueError:\n",
    "  print(\"Invalid value.\")\n",
    "except Exception as e:\n",
    "  print(\"An error occurred:\", e)\n",
    "```\n",
    "\n",
    "**`finally` block:**\n",
    "\n",
    "The `finally` block is optional and is always executed, regardless of whether an exception occurs. It's often used for cleanup tasks, such as closing files or database connections.\n",
    "\n",
    "```python\n",
    "try:\n",
    "  # Code that might raise exceptions\n",
    "except Exception as e:\n",
    "  print(\"An error occurred:\", e)\n",
    "finally:\n",
    "  print(\"Finally block executed.\")\n",
    "```\n",
    "\n",
    "**Raising exceptions:**\n",
    "\n",
    "You can raise your own exceptions using the `raise` keyword.\n",
    "\n",
    "```python\n",
    "if age < 0:\n",
    "  raise ValueError(\"Age cannot be negative.\")\n",
    "```\n",
    "\n",
    "By effectively handling exceptions, you can make your Python programs more robust and prevent unexpected crashes.\n"
   ]
  },
  {
   "cell_type": "markdown",
   "id": "4e9f3c93-5737-40dd-9f2c-883000081848",
   "metadata": {},
   "source": [
    "## 26.**`raise` Keyword in Python**\n",
    "\n",
    "The `raise` keyword in Python is used to raise an exception explicitly. This can be helpful for signaling errors or abnormal conditions in your code.\n",
    "\n",
    "**Syntax:**\n",
    "\n",
    "```python\n",
    "raise ExceptionType(message)\n",
    "```\n",
    "\n",
    "* **`ExceptionType`:** The type of exception to raise. This can be a built-in exception or a custom exception class you've defined.\n",
    "* **`message`:** An optional message to include with the exception.\n",
    "\n",
    "**Example:**\n",
    "\n",
    "```python\n",
    "age = -10\n",
    "if age < 0:\n",
    "  raise ValueError(\"Age cannot be negative.\")\n",
    "```\n",
    "\n",
    "In this example, if the `age` variable is less than 0, a `ValueError` exception is raised with the message \"Age cannot be negative.\"\n",
    "\n",
    "**Custom Exceptions:**\n",
    "\n",
    "You can create your own custom exceptions by defining a new class that inherits from the built-in `Exception` class. This allows you to provide more specific error messages and information.\n",
    "\n",
    "```python\n",
    "class MyCustomError(Exception):\n",
    "  pass\n",
    "\n",
    "def divide(x, y):\n",
    "  if y == 0:\n",
    "    raise MyCustomError(\"Cannot divide by zero.\")\n",
    "  return x / y\n",
    "\n",
    "try:\n",
    "  result = divide(10, 0)\n",
    "except MyCustomError as e:\n",
    "  print(e)\n",
    "```\n",
    "\n",
    "**Key points:**\n",
    "\n",
    "* The `raise` keyword is used to explicitly raise an exception.\n",
    "* You can raise built-in exceptions or custom exceptions.\n",
    "* The `raise` statement can be used in any part of your code, not just within `try-except` blocks.\n",
    "* Raising exceptions can help you write more robust and informative code.\n",
    "\n"
   ]
  },
  {
   "cell_type": "markdown",
   "id": "88578f41-f2d4-414d-9f32-5d7ebc5d6a9a",
   "metadata": {},
   "source": [
    "## 27.**Python Modules**\n",
    "\n",
    "Modules in Python are organized collections of code that can be reused in different parts of your program. They provide a way to structure your code, promote code reusability, and improve maintainability.\n",
    "\n",
    "**Creating a Module:**\n",
    "\n",
    "To create a module, save your Python code in a file with a `.py` extension. The file name will be the module name.\n",
    "\n",
    "**Example:**\n",
    "\n",
    "```python\n",
    "# mymodule.py\n",
    "\n",
    "def greet(name):\n",
    "  print(\"Hello, \" + name + \"!\")\n",
    "\n",
    "def add(x, y):\n",
    "  return x + y\n",
    "```\n",
    "\n",
    "**Importing a Module:**\n",
    "\n",
    "To use a module in your code, you need to import it using the `import` statement.\n",
    "\n",
    "```python\n",
    "import mymodule\n",
    "\n",
    "mymodule.greet(\"Alice\")\n",
    "result = mymodule.add(3, 4)\n",
    "print(result)\n",
    "```\n",
    "\n",
    "**Module Aliases:**\n",
    "\n",
    "You can give a module an alias using the `as` keyword:\n",
    "\n",
    "```python\n",
    "import mymodule as mod\n",
    "\n",
    "mod.greet(\"Bob\")\n",
    "```\n",
    "\n",
    "**Built-in Modules:**\n",
    "\n",
    "Python comes with many built-in modules that provide various functionalities. Some commonly used modules include:\n",
    "\n",
    "* `math`: Mathematical functions\n",
    "* `random`: Random number generation\n",
    "* `os`: Operating system-specific functions\n",
    "* `datetime`: Date and time manipulation\n",
    "* `json`: JSON encoding and decoding\n",
    "* `re`: Regular expressions\n",
    "* `requests`: HTTP requests\n",
    "* `time`: Time-related functions\n",
    "\n",
    "**Custom Modules:**\n",
    "\n",
    "You can create your own custom modules to organize your code and make it reusable.\n",
    "\n",
    "**Package Structure:**\n",
    "\n",
    "To organize multiple modules into a package, create a directory with the package name and a `__init__.py` file inside it. The `__init__.py` file can contain initialization code or import statements for the modules within the package.\n",
    "\n",
    "**Example:**\n",
    "\n",
    "```\n",
    "mypackage/\n",
    "  __init__.py\n",
    "  module1.py\n",
    "  module2.py\n",
    "```\n",
    "\n"
   ]
  }
 ],
 "metadata": {
  "kernelspec": {
   "display_name": "Python 3 (ipykernel)",
   "language": "python",
   "name": "python3"
  },
  "language_info": {
   "codemirror_mode": {
    "name": "ipython",
    "version": 3
   },
   "file_extension": ".py",
   "mimetype": "text/x-python",
   "name": "python",
   "nbconvert_exporter": "python",
   "pygments_lexer": "ipython3",
   "version": "3.10.0"
  }
 },
 "nbformat": 4,
 "nbformat_minor": 5
}
